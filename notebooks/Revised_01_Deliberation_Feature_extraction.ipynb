{
  "cells": [
    {
      "cell_type": "markdown",
      "metadata": {
        "id": "view-in-github",
        "colab_type": "text"
      },
      "source": [
        "<a href=\"https://colab.research.google.com/github/linzhi0918/deliberative-politics/blob/main/notebooks/Revised_01_Deliberation_Feature_extraction.ipynb\" target=\"_parent\"><img src=\"https://colab.research.google.com/assets/colab-badge.svg\" alt=\"Open In Colab\"/></a>"
      ]
    },
    {
      "cell_type": "code",
      "source": [
        "# This codebook was run in Google Colab"
      ],
      "metadata": {
        "id": "2bpuJEGiqk_0"
      },
      "execution_count": null,
      "outputs": []
    },
    {
      "cell_type": "code",
      "source": [
        "from google.colab import drive\n",
        "drive.mount('/content/drive')"
      ],
      "metadata": {
        "colab": {
          "base_uri": "https://localhost:8080/"
        },
        "id": "R93co_mlqlqQ",
        "outputId": "067c68f5-6a44-4bdb-dc19-c9e159477243"
      },
      "execution_count": null,
      "outputs": [
        {
          "output_type": "stream",
          "name": "stdout",
          "text": [
            "Mounted at /content/drive\n"
          ]
        }
      ]
    },
    {
      "cell_type": "code",
      "execution_count": null,
      "metadata": {
        "colab": {
          "base_uri": "https://localhost:8080/"
        },
        "id": "ihsN8zBSdAWG",
        "outputId": "c3ce2756-0077-4136-fb2c-6d03cb08a224"
      },
      "outputs": [
        {
          "output_type": "stream",
          "name": "stdout",
          "text": [
            "Collecting convokit\n",
            "  Downloading convokit-3.0.0.tar.gz (183 kB)\n",
            "\u001b[2K     \u001b[90m━━━━━━━━━━━━━━━━━━━━━━━━━━━━━━━━━━━━━━━━\u001b[0m \u001b[32m183.2/183.2 kB\u001b[0m \u001b[31m4.0 MB/s\u001b[0m eta \u001b[36m0:00:00\u001b[0m\n",
            "\u001b[?25h  Installing build dependencies ... \u001b[?25l\u001b[?25hdone\n",
            "  Getting requirements to build wheel ... \u001b[?25l\u001b[?25hdone\n",
            "  Preparing metadata (pyproject.toml) ... \u001b[?25l\u001b[?25hdone\n",
            "Requirement already satisfied: matplotlib>=3.0.0 in /usr/local/lib/python3.10/dist-packages (from convokit) (3.7.1)\n",
            "Requirement already satisfied: pandas>=0.23.4 in /usr/local/lib/python3.10/dist-packages (from convokit) (1.5.3)\n",
            "Collecting msgpack-numpy>=0.4.3.2 (from convokit)\n",
            "  Downloading msgpack_numpy-0.4.8-py2.py3-none-any.whl (6.9 kB)\n",
            "Requirement already satisfied: spacy>=2.3.5 in /usr/local/lib/python3.10/dist-packages (from convokit) (3.6.1)\n",
            "Requirement already satisfied: scipy>=1.1.0 in /usr/local/lib/python3.10/dist-packages (from convokit) (1.11.3)\n",
            "Requirement already satisfied: scikit-learn>=0.20.0 in /usr/local/lib/python3.10/dist-packages (from convokit) (1.2.2)\n",
            "Requirement already satisfied: nltk>=3.4 in /usr/local/lib/python3.10/dist-packages (from convokit) (3.8.1)\n",
            "Collecting dill>=0.2.9 (from convokit)\n",
            "  Downloading dill-0.3.7-py3-none-any.whl (115 kB)\n",
            "\u001b[2K     \u001b[90m━━━━━━━━━━━━━━━━━━━━━━━━━━━━━━━━━━━━━━━━\u001b[0m \u001b[32m115.3/115.3 kB\u001b[0m \u001b[31m5.9 MB/s\u001b[0m eta \u001b[36m0:00:00\u001b[0m\n",
            "\u001b[?25hRequirement already satisfied: joblib>=0.13.2 in /usr/local/lib/python3.10/dist-packages (from convokit) (1.3.2)\n",
            "Collecting clean-text>=0.6.0 (from convokit)\n",
            "  Downloading clean_text-0.6.0-py3-none-any.whl (11 kB)\n",
            "Collecting unidecode>=1.1.1 (from convokit)\n",
            "  Downloading Unidecode-1.3.7-py3-none-any.whl (235 kB)\n",
            "\u001b[2K     \u001b[90m━━━━━━━━━━━━━━━━━━━━━━━━━━━━━━━━━━━━━━━━\u001b[0m \u001b[32m235.5/235.5 kB\u001b[0m \u001b[31m10.1 MB/s\u001b[0m eta \u001b[36m0:00:00\u001b[0m\n",
            "\u001b[?25hRequirement already satisfied: tqdm>=4.64.0 in /usr/local/lib/python3.10/dist-packages (from convokit) (4.66.1)\n",
            "Collecting pymongo>=4.0 (from convokit)\n",
            "  Downloading pymongo-4.5.0-cp310-cp310-manylinux_2_17_x86_64.manylinux2014_x86_64.whl (671 kB)\n",
            "\u001b[2K     \u001b[90m━━━━━━━━━━━━━━━━━━━━━━━━━━━━━━━━━━━━━━━━\u001b[0m \u001b[32m671.3/671.3 kB\u001b[0m \u001b[31m11.2 MB/s\u001b[0m eta \u001b[36m0:00:00\u001b[0m\n",
            "\u001b[?25hRequirement already satisfied: pyyaml>=5.4.1 in /usr/local/lib/python3.10/dist-packages (from convokit) (6.0.1)\n",
            "Collecting dnspython>=1.16.0 (from convokit)\n",
            "  Downloading dnspython-2.4.2-py3-none-any.whl (300 kB)\n",
            "\u001b[2K     \u001b[90m━━━━━━━━━━━━━━━━━━━━━━━━━━━━━━━━━━━━━━━━\u001b[0m \u001b[32m300.4/300.4 kB\u001b[0m \u001b[31m11.8 MB/s\u001b[0m eta \u001b[36m0:00:00\u001b[0m\n",
            "\u001b[?25hCollecting emoji<2.0.0,>=1.0.0 (from clean-text>=0.6.0->convokit)\n",
            "  Downloading emoji-1.7.0.tar.gz (175 kB)\n",
            "\u001b[2K     \u001b[90m━━━━━━━━━━━━━━━━━━━━━━━━━━━━━━━━━━━━━━━━\u001b[0m \u001b[32m175.4/175.4 kB\u001b[0m \u001b[31m10.5 MB/s\u001b[0m eta \u001b[36m0:00:00\u001b[0m\n",
            "\u001b[?25h  Preparing metadata (setup.py) ... \u001b[?25l\u001b[?25hdone\n",
            "Collecting ftfy<7.0,>=6.0 (from clean-text>=0.6.0->convokit)\n",
            "  Downloading ftfy-6.1.1-py3-none-any.whl (53 kB)\n",
            "\u001b[2K     \u001b[90m━━━━━━━━━━━━━━━━━━━━━━━━━━━━━━━━━━━━━━━━\u001b[0m \u001b[32m53.1/53.1 kB\u001b[0m \u001b[31m7.1 MB/s\u001b[0m eta \u001b[36m0:00:00\u001b[0m\n",
            "\u001b[?25hRequirement already satisfied: contourpy>=1.0.1 in /usr/local/lib/python3.10/dist-packages (from matplotlib>=3.0.0->convokit) (1.1.1)\n",
            "Requirement already satisfied: cycler>=0.10 in /usr/local/lib/python3.10/dist-packages (from matplotlib>=3.0.0->convokit) (0.12.1)\n",
            "Requirement already satisfied: fonttools>=4.22.0 in /usr/local/lib/python3.10/dist-packages (from matplotlib>=3.0.0->convokit) (4.43.1)\n",
            "Requirement already satisfied: kiwisolver>=1.0.1 in /usr/local/lib/python3.10/dist-packages (from matplotlib>=3.0.0->convokit) (1.4.5)\n",
            "Requirement already satisfied: numpy>=1.20 in /usr/local/lib/python3.10/dist-packages (from matplotlib>=3.0.0->convokit) (1.23.5)\n",
            "Requirement already satisfied: packaging>=20.0 in /usr/local/lib/python3.10/dist-packages (from matplotlib>=3.0.0->convokit) (23.2)\n",
            "Requirement already satisfied: pillow>=6.2.0 in /usr/local/lib/python3.10/dist-packages (from matplotlib>=3.0.0->convokit) (9.4.0)\n",
            "Requirement already satisfied: pyparsing>=2.3.1 in /usr/local/lib/python3.10/dist-packages (from matplotlib>=3.0.0->convokit) (3.1.1)\n",
            "Requirement already satisfied: python-dateutil>=2.7 in /usr/local/lib/python3.10/dist-packages (from matplotlib>=3.0.0->convokit) (2.8.2)\n",
            "Requirement already satisfied: msgpack>=0.5.2 in /usr/local/lib/python3.10/dist-packages (from msgpack-numpy>=0.4.3.2->convokit) (1.0.7)\n",
            "Requirement already satisfied: click in /usr/local/lib/python3.10/dist-packages (from nltk>=3.4->convokit) (8.1.7)\n",
            "Requirement already satisfied: regex>=2021.8.3 in /usr/local/lib/python3.10/dist-packages (from nltk>=3.4->convokit) (2023.6.3)\n",
            "Requirement already satisfied: pytz>=2020.1 in /usr/local/lib/python3.10/dist-packages (from pandas>=0.23.4->convokit) (2023.3.post1)\n",
            "Requirement already satisfied: threadpoolctl>=2.0.0 in /usr/local/lib/python3.10/dist-packages (from scikit-learn>=0.20.0->convokit) (3.2.0)\n",
            "Requirement already satisfied: spacy-legacy<3.1.0,>=3.0.11 in /usr/local/lib/python3.10/dist-packages (from spacy>=2.3.5->convokit) (3.0.12)\n",
            "Requirement already satisfied: spacy-loggers<2.0.0,>=1.0.0 in /usr/local/lib/python3.10/dist-packages (from spacy>=2.3.5->convokit) (1.0.5)\n",
            "Requirement already satisfied: murmurhash<1.1.0,>=0.28.0 in /usr/local/lib/python3.10/dist-packages (from spacy>=2.3.5->convokit) (1.0.10)\n",
            "Requirement already satisfied: cymem<2.1.0,>=2.0.2 in /usr/local/lib/python3.10/dist-packages (from spacy>=2.3.5->convokit) (2.0.8)\n",
            "Requirement already satisfied: preshed<3.1.0,>=3.0.2 in /usr/local/lib/python3.10/dist-packages (from spacy>=2.3.5->convokit) (3.0.9)\n",
            "Requirement already satisfied: thinc<8.2.0,>=8.1.8 in /usr/local/lib/python3.10/dist-packages (from spacy>=2.3.5->convokit) (8.1.12)\n",
            "Requirement already satisfied: wasabi<1.2.0,>=0.9.1 in /usr/local/lib/python3.10/dist-packages (from spacy>=2.3.5->convokit) (1.1.2)\n",
            "Requirement already satisfied: srsly<3.0.0,>=2.4.3 in /usr/local/lib/python3.10/dist-packages (from spacy>=2.3.5->convokit) (2.4.8)\n",
            "Requirement already satisfied: catalogue<2.1.0,>=2.0.6 in /usr/local/lib/python3.10/dist-packages (from spacy>=2.3.5->convokit) (2.0.10)\n",
            "Requirement already satisfied: typer<0.10.0,>=0.3.0 in /usr/local/lib/python3.10/dist-packages (from spacy>=2.3.5->convokit) (0.9.0)\n",
            "Requirement already satisfied: pathy>=0.10.0 in /usr/local/lib/python3.10/dist-packages (from spacy>=2.3.5->convokit) (0.10.2)\n",
            "Requirement already satisfied: smart-open<7.0.0,>=5.2.1 in /usr/local/lib/python3.10/dist-packages (from spacy>=2.3.5->convokit) (6.4.0)\n",
            "Requirement already satisfied: requests<3.0.0,>=2.13.0 in /usr/local/lib/python3.10/dist-packages (from spacy>=2.3.5->convokit) (2.31.0)\n",
            "Requirement already satisfied: pydantic!=1.8,!=1.8.1,<3.0.0,>=1.7.4 in /usr/local/lib/python3.10/dist-packages (from spacy>=2.3.5->convokit) (1.10.13)\n",
            "Requirement already satisfied: jinja2 in /usr/local/lib/python3.10/dist-packages (from spacy>=2.3.5->convokit) (3.1.2)\n",
            "Requirement already satisfied: setuptools in /usr/local/lib/python3.10/dist-packages (from spacy>=2.3.5->convokit) (67.7.2)\n",
            "Requirement already satisfied: langcodes<4.0.0,>=3.2.0 in /usr/local/lib/python3.10/dist-packages (from spacy>=2.3.5->convokit) (3.3.0)\n",
            "Requirement already satisfied: wcwidth>=0.2.5 in /usr/local/lib/python3.10/dist-packages (from ftfy<7.0,>=6.0->clean-text>=0.6.0->convokit) (0.2.8)\n",
            "Requirement already satisfied: typing-extensions>=4.2.0 in /usr/local/lib/python3.10/dist-packages (from pydantic!=1.8,!=1.8.1,<3.0.0,>=1.7.4->spacy>=2.3.5->convokit) (4.5.0)\n",
            "Requirement already satisfied: six>=1.5 in /usr/local/lib/python3.10/dist-packages (from python-dateutil>=2.7->matplotlib>=3.0.0->convokit) (1.16.0)\n",
            "Requirement already satisfied: charset-normalizer<4,>=2 in /usr/local/lib/python3.10/dist-packages (from requests<3.0.0,>=2.13.0->spacy>=2.3.5->convokit) (3.3.0)\n",
            "Requirement already satisfied: idna<4,>=2.5 in /usr/local/lib/python3.10/dist-packages (from requests<3.0.0,>=2.13.0->spacy>=2.3.5->convokit) (3.4)\n",
            "Requirement already satisfied: urllib3<3,>=1.21.1 in /usr/local/lib/python3.10/dist-packages (from requests<3.0.0,>=2.13.0->spacy>=2.3.5->convokit) (2.0.7)\n",
            "Requirement already satisfied: certifi>=2017.4.17 in /usr/local/lib/python3.10/dist-packages (from requests<3.0.0,>=2.13.0->spacy>=2.3.5->convokit) (2023.7.22)\n",
            "Requirement already satisfied: blis<0.8.0,>=0.7.8 in /usr/local/lib/python3.10/dist-packages (from thinc<8.2.0,>=8.1.8->spacy>=2.3.5->convokit) (0.7.11)\n",
            "Requirement already satisfied: confection<1.0.0,>=0.0.1 in /usr/local/lib/python3.10/dist-packages (from thinc<8.2.0,>=8.1.8->spacy>=2.3.5->convokit) (0.1.3)\n",
            "Requirement already satisfied: MarkupSafe>=2.0 in /usr/local/lib/python3.10/dist-packages (from jinja2->spacy>=2.3.5->convokit) (2.1.3)\n",
            "Building wheels for collected packages: convokit, emoji\n",
            "  Building wheel for convokit (pyproject.toml) ... \u001b[?25l\u001b[?25hdone\n",
            "  Created wheel for convokit: filename=convokit-3.0.0-py3-none-any.whl size=216707 sha256=2b075c42f9cdff255d39d63587c427e67db52612b535101cf20539b3e3b7eff4\n",
            "  Stored in directory: /root/.cache/pip/wheels/c4/89/8c/2677fdb888588b6f93cb6ac86bdfb020f1f1c33e0d5525b231\n",
            "  Building wheel for emoji (setup.py) ... \u001b[?25l\u001b[?25hdone\n",
            "  Created wheel for emoji: filename=emoji-1.7.0-py3-none-any.whl size=171033 sha256=4c1501e9c6f56c08b37bfff5374aebec0025e1ec51139ef90679fcb268f3afdf\n",
            "  Stored in directory: /root/.cache/pip/wheels/31/8a/8c/315c9e5d7773f74b33d5ed33f075b49c6eaeb7cedbb86e2cf8\n",
            "Successfully built convokit emoji\n",
            "Installing collected packages: emoji, unidecode, msgpack-numpy, ftfy, dnspython, dill, pymongo, clean-text, convokit\n",
            "Successfully installed clean-text-0.6.0 convokit-3.0.0 dill-0.3.7 dnspython-2.4.2 emoji-1.7.0 ftfy-6.1.1 msgpack-numpy-0.4.8 pymongo-4.5.0 unidecode-1.3.7\n"
          ]
        },
        {
          "output_type": "stream",
          "name": "stderr",
          "text": [
            "[nltk_data] Downloading package averaged_perceptron_tagger to\n",
            "[nltk_data]     /root/nltk_data...\n",
            "[nltk_data]   Unzipping taggers/averaged_perceptron_tagger.zip.\n"
          ]
        }
      ],
      "source": [
        "# -*- coding: utf-8 -*-\n",
        "\"\"\"\n",
        "\n",
        "\n",
        "@author: Kokil\n",
        "\"\"\"\n",
        "\n",
        "\n",
        "import pandas as pd\n",
        "import csv\n",
        "import numpy as np\n",
        "import sys\n",
        "import time\n",
        "from sklearn.linear_model import LogisticRegression\n",
        "from sklearn.neighbors import KNeighborsClassifier\n",
        "from sklearn.feature_extraction.text import TfidfVectorizer\n",
        "from sklearn.naive_bayes import GaussianNB, MultinomialNB, BernoulliNB\n",
        "from sklearn.discriminant_analysis import LinearDiscriminantAnalysis\n",
        "from sklearn.tree import DecisionTreeClassifier\n",
        "from sklearn.ensemble import GradientBoostingClassifier\n",
        "from sklearn.ensemble import AdaBoostClassifier, RandomForestClassifier\n",
        "from sklearn.svm import SVC, LinearSVC\n",
        "from sklearn.metrics import classification_report\n",
        "from sklearn.feature_extraction.text import CountVectorizer\n",
        "from sklearn.model_selection import KFold, StratifiedKFold\n",
        "from sklearn.preprocessing import StandardScaler\n",
        "from sklearn.feature_selection import RFE\n",
        "from sklearn.utils import class_weight\n",
        "from sklearn import metrics\n",
        "from sklearn.model_selection import train_test_split\n",
        "import numpy as np\n",
        "from scipy.sparse import csr_matrix\n",
        "import spacy\n",
        "from spacy.lang.en import English\n",
        "from spacy.lang.en.stop_words import STOP_WORDS\n",
        "import sys\n",
        "import os\n",
        "import warnings\n",
        "import pandas as pd\n",
        "import json\n",
        "import string\n",
        "import re\n",
        "import nltk\n",
        "import random\n",
        "import matplotlib.pyplot as plt\n",
        "from nltk.tokenize import RegexpTokenizer\n",
        "#!pip install spacy\n",
        "#!python3 -m spacy download en_core_web_lg\n",
        "#!python3 -m spacy download en_core_web_sm\n",
        "\n",
        "!pip install convokit\n",
        "from convokit import Corpus, Speaker, Utterance\n",
        "from convokit import download\n",
        "from convokit import TextParser\n",
        "from convokit import PolitenessStrategies\n",
        "import spacy\n",
        "import nltk\n",
        "nltk.download('averaged_perceptron_tagger')\n",
        "import sklearn.externals\n",
        "import joblib"
      ]
    },
    {
      "cell_type": "code",
      "execution_count": null,
      "metadata": {
        "id": "s6DjSsundAWK"
      },
      "outputs": [],
      "source": [
        "nlp = spacy.load(\"en_core_web_sm\")\n",
        "\n",
        "def is_number(tok):\n",
        "    try:\n",
        "        float(tok)\n",
        "        return True\n",
        "    except ValueError:\n",
        "        return False\n",
        "\n",
        "def spacy_tokenizer(text):\n",
        "    return [tok.text if not is_number(tok.text) else '_NUM_' for tok in nlp(text)]\n"
      ]
    },
    {
      "cell_type": "code",
      "execution_count": null,
      "metadata": {
        "id": "YDxbGi3zdAWL"
      },
      "outputs": [],
      "source": [
        "def extract_harbingers(df, X_col):\n",
        "\n",
        "    with open('/content/drive/MyDrive/Colab_Notebooks/deliberative-politics-main/lexica/2015_Diplomacy_lexicon.json') as f:\n",
        "        features = json.loads(f.readline())\n",
        "\n",
        "    for feature in features:\n",
        "        harbingers = [harbinger.encode('ascii', 'ignore').decode('ascii').lower() for harbinger in features[feature]]\n",
        "        features[feature] = harbingers\n",
        "\n",
        "    def clean_text(text):\n",
        "        text = str(text)\n",
        "        text = text.replace('\\'', '')\n",
        "        text = text.lower()\n",
        "        text = text.replace('{html}',\"\")\n",
        "        text = re.sub(re.compile('<.*?>'), '', text)\n",
        "        text = re.sub(r'http\\S+', '', text)\n",
        "        text = re.sub('[0-9]+', '', text)\n",
        "        tokenizer = RegexpTokenizer(r'\\w+')\n",
        "        tokens = tokenizer.tokenize(text)\n",
        "        text = \" \".join(tokens)\n",
        "        return text\n",
        "\n",
        "    def get_feature_frequency(text, feature):\n",
        "        count = 0\n",
        "        for harbinger in features[feature]:\n",
        "            count += text.count(harbinger)\n",
        "        return count\n",
        "\n",
        "    df['clean_text'] = df.apply(lambda row: clean_text(row[X_col]), axis=1)\n",
        "    for feature in features:\n",
        "        df[feature] = df.apply(lambda row: get_feature_frequency(row['clean_text'], feature), axis=1)"
      ]
    },
    {
      "cell_type": "code",
      "execution_count": null,
      "metadata": {
        "id": "2h1qQAp7dAWM"
      },
      "outputs": [],
      "source": [
        "def preprocess(text_string):\n",
        "\n",
        "        space_pattern = '\\s+'\n",
        "        giant_url_regex = ('http[s]?://(?:[a-zA-Z]|[0-9]|[$-_@.&+]|''[!*\\(\\),]|(?:%[0-9a-fA-F][0-9a-fA-F]))+')\n",
        "        mention_regex = '@[\\w\\-]+'\n",
        "        parsed_text = re.sub(space_pattern, ' ', text_string)\n",
        "        parsed_text = re.sub(giant_url_regex, '', parsed_text)\n",
        "        parsed_text = re.sub(mention_regex, '', parsed_text)\n",
        "    #parsed_text = parsed_text.code(\"utf-8\", errors='ignore')\n",
        "        return parsed_text\n",
        "\n",
        "\n",
        "#nlp = en_core_web_sm.load()\n",
        "#spacy.load(\"en_core_web_lg\")\n",
        "#spacy.load(\"en_core_web_sm\")\n",
        "ps = PolitenessStrategies()\n",
        "spacy_nlp = spacy.load('en_core_web_sm', disable=['ner'])\n",
        "cols = list(ps.transform_utterance(\"hello, could you please help me proofread this article?\", spacy_nlp=spacy_nlp).meta['politeness_strategies'])\n",
        "\n",
        "def extract_politeness_feats(df, X_col):\n",
        "\n",
        "    def extract_politeness_helper(row):\n",
        "        utt = ps.transform_utterance(row[X_col], spacy_nlp=spacy_nlp)\n",
        "        feats = [utt.meta['politeness_strategies'][x] for x in cols]\n",
        "        return pd.Series(feats)\n",
        "\n",
        "    df[cols] = df.apply(extract_politeness_helper, axis=1)\n",
        "\n"
      ]
    },
    {
      "cell_type": "code",
      "source": [],
      "metadata": {
        "id": "s4OMz-fyn8Gv"
      },
      "execution_count": null,
      "outputs": []
    },
    {
      "cell_type": "code",
      "source": [],
      "metadata": {
        "colab": {
          "base_uri": "https://localhost:8080/"
        },
        "id": "T8R0oonsn9Y8",
        "outputId": "22c3104b-e813-4d81-9d92-f51b16e8ad5d"
      },
      "execution_count": null,
      "outputs": [
        {
          "output_type": "stream",
          "name": "stdout",
          "text": [
            "Mounted at /content/drive\n"
          ]
        }
      ]
    },
    {
      "cell_type": "code",
      "execution_count": null,
      "metadata": {
        "id": "OerKV-9YdAWM"
      },
      "outputs": [],
      "source": [
        "# List harbingers, liwc and politeness features\n",
        "import json\n",
        "with open('/content/drive/MyDrive/Colab_Notebooks/deliberative-politics-main/lexica/2015_Diplomacy_lexicon.json') as f:\n",
        "    harb_dict = json.loads(f.readline())\n",
        "politeness_dict = pd.read_csv('/content/drive/MyDrive/Colab_Notebooks/deliberative-politics-main/lexica/politeness_list.csv')\n",
        "liwc_dict = pd.read_csv('/content/drive/MyDrive/Colab_Notebooks/deliberative-politics-main/lexica/liwc_list.csv')\n",
        "X_cols = list(politeness_dict.columns) + list(liwc_dict.columns) + list(harb_dict.keys())"
      ]
    },
    {
      "cell_type": "code",
      "execution_count": null,
      "metadata": {
        "id": "uwsqybWMdAWM"
      },
      "outputs": [],
      "source": [
        "\n",
        "\n"
      ]
    },
    {
      "cell_type": "code",
      "execution_count": null,
      "metadata": {
        "id": "nFbiQ1KodAWN"
      },
      "outputs": [],
      "source": [
        "#!/usr/bin/env python\n",
        "# -*- coding: utf-8 -*-\n",
        "\n",
        "\"\"\"\n",
        "happierfuntokenizer_v3\n",
        "\n",
        "This code implements a basic, Twitter-aware tokenizer.\n",
        "\n",
        "A tokenizer is a function that splits a string of text into words. In\n",
        "Python terms, we map string and unicode objects into lists of unicode\n",
        "objects.\n",
        "\n",
        "There is not a single right way to do tokenizing. The best method\n",
        "depends on the application.  This tokenizer is designed to be flexible\n",
        "and this easy to adapt to new domains and tasks.  The basic logic is\n",
        "this:\n",
        "\n",
        "1. The tuple regex_strings defines a list of regular expression\n",
        "   strings.\n",
        "\n",
        "2. The regex_strings strings are put, in order, into a compiled\n",
        "   regular expression object called word_re.\n",
        "\n",
        "3. The tokenization is done by word_re.findall(s), where s is the\n",
        "   user-supplied string, inside the tokenize() method of the class\n",
        "   Tokenizer.\n",
        "\n",
        "4. When instantiating Tokenizer objects, there is a single option:\n",
        "   preserve_case.  By default, it is set to True. If it is set to\n",
        "   False, then the tokenizer will downcase everything except for\n",
        "   emoticons.\n",
        "\n",
        "The __main__ method illustrates by tokenizing a few examples.\n",
        "\n",
        "I've also included a Tokenizer method tokenize_random_tweet(). If the\n",
        "twitter library is installed (http://code.google.com/p/python-twitter/)\n",
        "and Twitter is cooperating, then it should tokenize a random\n",
        "English-language tweet.\n",
        "\"\"\"\n",
        "\n",
        "######################################################################\n",
        "\n",
        "import re\n",
        "import html.entities\n",
        "######################################################################\n",
        "# The following strings are components in the regular expression\n",
        "# that is used for tokenizing. It's important that phone_number\n",
        "# appears first in the final regex (since it can contain whitespace).\n",
        "# It also could matter that tags comes after emoticons, due to the\n",
        "# possibility of having text like\n",
        "#\n",
        "#     <:| and some text >:)\n",
        "#\n",
        "# Most imporatantly, the final element should always be last, since it\n",
        "# does a last ditch whitespace-based tokenization of whatever is left.\n",
        "\n",
        "# This particular element is used in a couple ways, so we define it\n",
        "# with a name:\n",
        "emoticon_string = r\"\"\"\n",
        "    (?:\n",
        "      [<>]?\n",
        "      [:;=8>]                    # eyes\n",
        "      [\\-o\\*\\']?                 # optional nose\n",
        "      [\\)\\]\\(\\[dDpPxX/\\:\\}\\{@\\|\\\\] # mouth\n",
        "      |\n",
        "      [\\)\\]\\(\\[dDpPxX/\\:\\}\\{@\\|\\\\] # mouth\n",
        "      [\\-o\\*\\']?                 # optional nose\n",
        "      [:;=8<]                    # eyes\n",
        "      [<>]?\n",
        "      |\n",
        "      <[/\\\\]?3                         # heart(added: has)\n",
        "      |\n",
        "      \\(?\\(?\\#?                   #left cheeck\n",
        "      [>\\-\\^\\*\\+o\\~]              #left eye\n",
        "      [\\_\\.\\|oO\\,]                #nose\n",
        "      [<\\-\\^\\*\\+o\\~]              #right eye\n",
        "      [\\#\\;]?\\)?\\)?               #right cheek\n",
        "    )\"\"\"\n",
        "\n",
        "# The components of the tokenizer:\n",
        "regex_strings = (\n",
        "    # Phone numbers:\n",
        "    r\"\"\"\n",
        "    (?:\n",
        "      (?:            # (international)\n",
        "        \\+?[01]\n",
        "        [\\-\\s.]*\n",
        "      )?\n",
        "      (?:            # (area code)\n",
        "        [\\(]?\n",
        "        \\d{3}\n",
        "        [\\-\\s.\\)]*\n",
        "      )?\n",
        "      \\d{3}          # exchange\n",
        "      [\\-\\s.]*\n",
        "      \\d{4}          # base\n",
        "    )\"\"\"\n",
        "    ,\n",
        "    # Emoticons:\n",
        "    emoticon_string\n",
        "    ,\n",
        "    # http:\n",
        "    # Web Address:\n",
        "    r\"\"\"(?:(?:http[s]?\\:\\/\\/)?(?:[\\w\\_\\-]+\\.)+(?:com|net|gov|edu|info|org|ly|be|gl|co|gs|pr|me|cc|us|gd|nl|ws|am|im|fm|kr|to|jp|sg)(?:\\/[\\s\\b$])?)\"\"\"\n",
        "    ,\n",
        "    r\"\"\"(?:http[s]?\\:\\/\\/)\"\"\"   #need to capture it alone sometimes\n",
        "    ,\n",
        "    #command in parens:\n",
        "    r\"\"\"(?:\\[[\\w_]+\\])\"\"\"   #need to capture it alone sometimes\n",
        "    ,\n",
        "    # HTTP GET Info\n",
        "    r\"\"\"(?:\\/\\w+\\?(?:\\;?\\w+\\=\\w+)+)\"\"\"\n",
        "    ,\n",
        "    # HTML tags:\n",
        "    r\"\"\"(?:<[^>]+\\w=[^>]+>|<[^>]+\\s\\/>|<[^>\\s]+>?|<?[^<\\s]+>)\"\"\"\n",
        "    #r\"\"\"(?:<[^>]+\\w+[^>]+>|<[^>\\s]+>?|<?[^<\\s]+>)\"\"\"\n",
        "    ,\n",
        "    # Twitter username:\n",
        "    r\"\"\"(?:@[\\w_]+)\"\"\"\n",
        "    ,\n",
        "    # Twitter hashtags:\n",
        "    r\"\"\"(?:\\#+[\\w_]+[\\w\\'_\\-]*[\\w_]+)\"\"\"\n",
        "    ,\n",
        "    # Remaining word types:\n",
        "    r\"\"\"\n",
        "    (?:[\\w][\\w'\\-_]+[\\w])       # Words with apostrophes or dashes.\n",
        "    |\n",
        "    (?:[+\\-]?\\d+[,/.:-]\\d+[+\\-]?)  # Numbers, including fractions, decimals.\n",
        "    |\n",
        "    (?:[\\w_]+)                     # Words without apostrophes or dashes.\n",
        "    |\n",
        "    (?:\\.(?:\\s*\\.){1,})            # Ellipsis dots.\n",
        "    |\n",
        "    (?:\\S)                         # Everything else that isn't whitespace.\n",
        "    \"\"\"\n",
        "    )\n",
        "\n",
        "######################################################################\n",
        "# This is the core tokenizing regex:\n",
        "\n",
        "word_re = re.compile(r\"\"\"(%s)\"\"\" % \"|\".join(regex_strings), re.VERBOSE | re.I | re.UNICODE)\n",
        "\n",
        "# The emoticon string gets its own regex so that we can preserve case for them as needed:\n",
        "emoticon_re = re.compile(regex_strings[1], re.VERBOSE | re.I | re.UNICODE)\n",
        "\n",
        "# These are for regularizing HTML entities to Unicode:\n",
        "html_entity_digit_re = re.compile(r\"&#\\d+;\")\n",
        "html_entity_alpha_re = re.compile(r\"&\\w+;\")\n",
        "amp = \"&amp;\"\n",
        "\n",
        "hex_re = re.compile(r'\\\\x[0-9a-z]{1,4}')\n",
        "\n",
        "######################################################################\n",
        "\n",
        "class Tokenizer:\n",
        "    def __init__(self, preserve_case=False, use_unicode=True):\n",
        "        self.preserve_case = preserve_case\n",
        "        self.use_unicode = use_unicode\n",
        "\n",
        "    def tokenize(self, s):\n",
        "        \"\"\"\n",
        "        Argument: s -- any string or unicode object\n",
        "        Value: a tokenize list of strings; conatenating this list returns the original string if preserve_case=False\n",
        "        \"\"\"\n",
        "        # Try to ensure unicode:\n",
        "        if self.use_unicode:\n",
        "            try:\n",
        "                s = str(s)\n",
        "            except UnicodeDecodeError:\n",
        "                s = str(s).encode('string_escape')\n",
        "                s = str(s)\n",
        "        # Fix HTML character entitites:\n",
        "        s = self.__html2unicode(s)\n",
        "        s = self.__removeHex(s)\n",
        "        # Tokenize:\n",
        "        words = word_re.findall(s)\n",
        "        #print words #debug\n",
        "        # Possible alter the case, but avoid changing emoticons like :D into :d:\n",
        "        if not self.preserve_case:\n",
        "            words = map((lambda x : x if emoticon_re.search(x) else x.lower()), words)\n",
        "\n",
        "        return words\n",
        "\n",
        "\n",
        "    def __html2unicode(self, s):\n",
        "        \"\"\"\n",
        "        Internal metod that seeks to replace all the HTML entities in\n",
        "        s with their corresponding unicode characters.\n",
        "        \"\"\"\n",
        "        # First the digits:\n",
        "        ents = set(html_entity_digit_re.findall(s))\n",
        "        if len(ents) > 0:\n",
        "            for ent in ents:\n",
        "                entnum = ent[2:-1]\n",
        "                try:\n",
        "                    entnum = int(entnum)\n",
        "                    s = s.replace(ent, chr(entnum))\n",
        "                except:\n",
        "                    pass\n",
        "        # Now the alpha versions:\n",
        "        ents = set(html_entity_alpha_re.findall(s))\n",
        "        ents = filter((lambda x : x != amp), ents)\n",
        "        for ent in ents:\n",
        "            entname = ent[1:-1]\n",
        "            try:\n",
        "                s = s.replace(ent, chr(htmlentitydefs.name2codepoint[entname]))\n",
        "            except:\n",
        "                pass\n",
        "            s = s.replace(amp, \" and \")\n",
        "        return s\n",
        "\n",
        "    def __removeHex(self, s):\n",
        "        return hex_re.sub(' ', s)\n"
      ]
    },
    {
      "cell_type": "code",
      "execution_count": null,
      "metadata": {
        "id": "4ULY48eTdAWO"
      },
      "outputs": [],
      "source": [
        "import pandas as pd\n",
        "from nltk import word_tokenize\n",
        "from nltk.stem.snowball import SnowballStemmer\n",
        "import requests\n",
        "from io import StringIO\n",
        "def LeXmo(text,document,dictionary):\n",
        "\n",
        "    '''\n",
        "      Takes text and adds if to a dictionary with 10 Keys  for each of the 10 emotions in the NRC Emotion Lexicon,\n",
        "      each dictionay contains the value of the text in that emotions divided to the text word count\n",
        "      INPUT: string\n",
        "      OUTPUT: dictionary with the text and the value of 10 emotions\n",
        "      '''\n",
        "    reponse = \"\"\n",
        "    choice = 0\n",
        "    df = pd.DataFrame()\n",
        "    emodic = {'text': text}\n",
        "    if(dictionary == \"all\"):\n",
        "        #first nrc\n",
        "        choice = 1\n",
        "    if(dictionary == \"nrc\" or choice == 1):\n",
        "        response = requests.get('https://raw.github.com/dinbav/LeXmo/master/NRC-Emotion-Lexicon-Wordlevel-v0.92.txt')\n",
        "        nrc = StringIO(response.text)\n",
        "\n",
        "\n",
        "#        emodic = {'anger': [], 'anticipation': [], 'disgust': [], 'fear': [], 'joy': [], 'negative': [],                  'positive': [], 'sadness': [], 'surprise': [], 'trust': []}\n",
        "        thisdic =  {'anger': [], 'anticipation': [], 'disgust': [], 'fear': [], 'joy': [], 'negative': [],'positive': [], 'sadness': [], 'surprise': [], 'trust': []}\n",
        "        emodic = Merge(emodic,thisdic)\n",
        "\n",
        "        lexicon = pd.read_csv(nrc,\n",
        "                            names=[\"word\", \"emotion\", \"association\"],\n",
        "                            sep=r'\\t', engine='python')\n",
        "        df = df.append(lexicon)\n",
        "\n",
        "    if(dictionary == \"liwc\" or choice == 1):\n",
        "        #response = requests.get('/home/kokil/feature_extraction/data/liwc2015.txt')\n",
        "        #liwc = StringIO(response.text)\n",
        "        liwc = '/content/drive/MyDrive/Colab_Notebooks/deliberative-politics-main/lexica/liwc2015.txt'\n",
        "\n",
        "\n",
        "       # emodic = {'text': text, 'PPRON': [],'BODY': [],'WE': [],'DEATH': [],'FOCUSFUTURE': [],'FEEL': [],'INTERROG': [],'NUMBER': [],'POSEMO': [],'NEGATE': [],'QUANT': [],'THEY': [],'AFFECT': [],'RELATIV': [],'HOME': [],'CONJ': [],'COGPROC': [],'SEXUAL': [],'AUXVERB': [],'SHEHE': [],'BIO': [],'DIFFER': [],'POWER': [],'NETSPEAK': [],'INFORMAL': [],'CAUSE': [],'FILLER': [],'INSIGHT': [],'LEISURE': [],'NEGEMO': [],'MOTION': [],'SEE': [],'FOCUSPAST': [],'ANGER': [],'ARTICLE': [],'NONFLU': [],'MALE': [],'WORK': [],'FRIEND': [],'FUNCTION': [],'RISK': [],'FAMILY': [],'SPACE': [],'I': [],'IPRON': [],'SOCIAL': [],'ASSENT': [],'DRIVES': [],'PERCEPT': [],'VERB': [],'HEAR': [],'FEMALE': [],'DISCREP': [],'YOU': [],'ADJ': [],'ACHIEVE': [],'RELIG': [],'TENTAT': [],'COMPARE': [],'ADVERB': [],'PRONOUN': [],'MONEY': [],'FOCUSPRESENT': [],'INGEST': [],'AFFILIATION': [],'SWEAR': [],'HEALTH': [],'SAD': [],'TIME': [],'REWARD': [],'ANX': [],'PREP': [],'CERTAIN': []}\n",
        "        thisdic = {'PPRON': [],'BODY': [],'WE': [],'DEATH': [],'FOCUSFUTURE': [],'FEEL': [],'INTERROG': [],'NUMBER': [],'POSEMO': [],'NEGATE': [],'QUANT': [],'THEY': [],'AFFECT': [],'RELATIV': [],'HOME': [],'CONJ': [],'COGPROC': [],'SEXUAL': [],'AUXVERB': [],'SHEHE': [],'BIO': [],'DIFFER': [],'POWER': [],'NETSPEAK': [],'INFORMAL': [],'CAUSE': [],'FILLER': [],'INSIGHT': [],'LEISURE': [],'NEGEMO': [],'MOTION': [],'SEE': [],'FOCUSPAST': [],'ANGER': [],'ARTICLE': [],'NONFLU': [],'MALE': [],'WORK': [],'FRIEND': [],'FUNCTION': [],'RISK': [],'FAMILY': [],'SPACE': [],'I': [],'IPRON': [],'SOCIAL': [],'ASSENT': [],'DRIVES': [],'PERCEPT': [],'VERB': [],'HEAR': [],'FEMALE': [],'DISCREP': [],'YOU': [],'ADJ': [],'ACHIEVE': [],'RELIG': [],'TENTAT': [],'COMPARE': [],'ADVERB': [],'PRONOUN': [],'MONEY': [],'FOCUSPRESENT': [],'INGEST': [],'AFFILIATION': [],'SWEAR': [],'HEALTH': [],'SAD': [],'TIME': [],'REWARD': [],'ANX': [],'PREP': [],'CERTAIN': []}\n",
        "        emodic = Merge(emodic,thisdic)\n",
        "        lexicon = pd.read_csv(liwc,\n",
        "                            names=[\"word\", \"emotion\", \"association\"],\n",
        "                            sep=r'\\t', engine='python')\n",
        "        df = df.append(lexicon)\n",
        "\n",
        "    if(dictionary == \"delib\" or choice == 1):\n",
        "        delib = '/content/drive/MyDrive/Colab_Notebooks/deliberative-politics-main/lexica/dd_delib.txt'\n",
        "        #response = requests.get('/home/kokil/feature_extraction/data/dd_delib.txt')\n",
        "        #delib = StringIO(response.text)\n",
        "\n",
        "\n",
        "\n",
        "       # emodic = {'text': text, 'EMP_RES': [],'UNCIVIL_ABUSE': [],'CONSTRUCTIVENESS': [],'JUSTIFICATION': [],'RECIPROCITY': [],'JUST_EXT': [],'RELEVANCE': [],'JUST_INT': []}\n",
        "        thisdic =  {'EMP_RES': [],'UNCIVIL_ABUSE': [],'CONSTRUCTIVENESS': [],'JUSTIFICATION': [],'RECIPROCITY': [],'JUST_EXT': [],'RELEVANCE': [],'JUST_INT': []}\n",
        "        emodic = Merge(emodic,thisdic)\n",
        "\n",
        "\n",
        "        lexicon = pd.read_csv(delib,\n",
        "                            names=[\"word\", \"emotion\", \"association\"],\n",
        "                            sep=r'\\t', engine='python')\n",
        "        df = df.append(lexicon)\n",
        "    if(dictionary == \"hate\" or choice == 1):\n",
        "        hate = '/content/drive/MyDrive/Colab_Notebooks/deliberative-politics-main/lexica/incivilities.txt'\n",
        "        #response = requests.get('/home/kokil/feature_extraction/data/incivilities.txt')\n",
        "        #hate = StringIO(response.text)\n",
        "\n",
        "\n",
        "\n",
        "        #emodic = {'text': text, 'SWEAR': [],'UNCIV': [],'OFFEN': []}\n",
        "        thisdic = {'UNCIV': [],'OFFEN': []}\n",
        "        emodic = Merge(emodic,thisdic)\n",
        "\n",
        "        lexicon = pd.read_csv(hate,           names=[\"word\", \"emotion\", \"association\"],             sep=r'\\t', engine='python')\n",
        "        df = df.append(lexicon)\n",
        "\n",
        "    df = df.drop_duplicates(subset=['word', 'emotion'])\n",
        "    df.reset_index()\n",
        "    emolex_words = df.pivot(index='word',\n",
        "                                   columns='emotion',\n",
        "                                   values='association').reset_index()\n",
        "    emolex_words.drop(emolex_words.index[0])\n",
        "\n",
        "    categories = emolex_words.columns.drop('word')\n",
        "\n",
        "    stemmer = SnowballStemmer(\"english\")\n",
        "\n",
        "    rows_list = []\n",
        "    word_count = len(document)\n",
        "    for word in document:\n",
        "            word = stemmer.stem(word.lower())\n",
        "\n",
        "            emo_score = (emolex_words[emolex_words.word == word])\n",
        "            rows_list.append(emo_score)\n",
        "\n",
        "\n",
        "    df = pd.concat(rows_list)\n",
        "    df.reset_index(drop=True)\n",
        "\n",
        "    for category in list(categories):\n",
        "        emodic[category] = df[category].sum() / word_count\n",
        "\n",
        "    return emodic"
      ]
    },
    {
      "cell_type": "code",
      "execution_count": null,
      "metadata": {
        "id": "6mnxQsxYdAWO"
      },
      "outputs": [],
      "source": [
        "import csv\n",
        "\n",
        "tokenizer = Tokenizer()\n",
        "\n",
        "def tokenize_messages(filename,col_text,col_msgid):\n",
        "    with open(filename,encoding=\"utf-8\") as corpus:\n",
        "            reader = csv.reader(corpus)\n",
        "    #splitsfile = open('C:/Users/User/Dropbox/Content Analysis/Corpus/Full Corpus/fullcorpus_split.csv','a',newline='',encoding=\"utf-8\")\n",
        "    #f_revs = csv.writer(splitsfile)\n",
        "    #f_revs.writerow([\"message_id\",\"SITE ID\",\"message\",\"Like Count\",\"postlength\"])\n",
        "\n",
        "            rows_list = []\n",
        "            for row in reader:\n",
        "                message = row[col_text]\n",
        "                tokenizer = Tokenizer(preserve_case=True)\n",
        "                words = tokenizer.tokenize(message.lower())\n",
        "                #print(words)\n",
        "                totalGrams=0\n",
        "                freqs = dict()\n",
        "                totalChars = 0\n",
        "                gram = ''\n",
        "                for n in range (1,4):\n",
        "                    for i in range(0,(len(words) - n)+1):\n",
        "                        totalGrams += 1\n",
        "                        gram = ' '.join(words[i:i+n])\n",
        "                        try:\n",
        "                            freqs[gram] = 1\n",
        "                        except:\n",
        "                            print(\"error\")\n",
        "                freqs[\"message_id\"]=row[col_msgid]\n",
        "                rows_list.append(freqs)\n",
        "            df = pd.DataFrame(rows_list)\n",
        "            df= df.replace(np.nan, 0)\n",
        "            print(\"Writing tokenized messages to csv...\")\n",
        "            timestr = time.strftime(\"%Y%m%d-%H%M\")\n",
        "            #print timestr\n",
        "            df.to_csv(\"tokenized_messages_\"+timestr+\".csv\")\n",
        "            return df\n",
        "\n",
        "############################\n",
        "\n",
        "def emolize_messages(filename,col_text,col_msgid,choice):\n",
        "    with open(filename,encoding=\"utf-8\") as corpus:\n",
        "            reader = csv.reader(corpus)\n",
        "    #splitsfile = open('C:/Users/User/Dropbox/Content Analysis/Corpus/Full Corpus/fullcorpus_split.csv','a',newline='',encoding=\"utf-8\")\n",
        "    #f_revs = csv.writer(splitsfile)\n",
        "    #f_revs.writerow([\"message_id\",\"SITE ID\",\"message\",\"Like Count\",\"postlength\"])\n",
        "\n",
        "            rows_list = []\n",
        "            for row in reader:\n",
        "                message = row[col_text]\n",
        "                tokenizer = Tokenizer(preserve_case=True)\n",
        "                words = tokenizer.tokenize(message.lower())\n",
        "                emodic = LeXmo(message.lower(),words,choice)\n",
        "                print(emodic)\n",
        "                rows_list.append(emodic)\n",
        "                #print(emodic)\n",
        "            df = pd.DataFrame(rows_list)\n",
        "            df= df.replace(np.nan, 0)\n",
        "            print(\"Writing emolized messages to csv...\")\n",
        "            timestr = time.strftime(\"%Y%m%d-%H%M\")\n",
        "            #print timestr\n",
        "            df.to_csv(filename+\"_\"+choice+\"_\"+timestr+\".csv\")\n",
        "            return df\n",
        "\n",
        "############################\n",
        "def extract_counts(df,X_col):\n",
        "            vectorizer = CountVectorizer(tokenizer=spacy_tokenizer, stop_words='english', strip_accents='unicode')\n",
        "            corpus = list(df[X_col].str.lower())\n",
        "            X = vectorizer.fit_transform(corpus)\n",
        "            df = df.join(pd.DataFrame(X.toarray()).add_prefix('count_'))\n",
        "            df.to_csv(os.path.join(MODIFIED_DATA, '/content/drive/MyDrive/Colab_Notebooks/deliberative-politics-main/modified_data/counts.csv'))\n",
        "def extract_tfidf(df,X_col):\n",
        "            vectorizer = TfidfVectorizer(tokenizer=spacy_tokenizer, stop_words='english', strip_accents='unicode',max_features = 10000)\n",
        "            corpus = list(df[X_col].str.lower())\n",
        "            X = vectorizer.fit_transform(corpus)\n",
        "            df = df.join(pd.DataFrame(X.toarray()).add_prefix('tfidf_'))\n",
        "            df.to_csv(os.path.join(MODIFIED_DATA, '/content/drive/MyDrive/Colab_Notebooks/deliberative-politics-main/modified_data/tfidf.csv'))\n",
        "            return df\n",
        "def extract_tfidf_and_pos(df,X_col):\n",
        "            vectorizer = TfidfVectorizer(    tokenizer=spacy_tokenizer,            preprocessor=preprocess,            ngram_range=(1, 3),            stop_words='english', #We do better when we keep stopwords\n",
        "                                         use_idf=True,smooth_idf=False,      norm=None, #Applies l2 norm smoothin\n",
        "                                         decode_error='replace',            max_features=10000,                         )#    min_df=1,   max_df=0.501\n",
        "            tweets = df[X_col]\n",
        "            tfidf = vectorizer.fit_transform(tweets).toarray()\n",
        "            print(\"came here\")\n",
        "            vocab = {v:i for i, v in enumerate(vectorizer.get_feature_names_out())}\n",
        "            idf_vals = vectorizer.idf_\n",
        "            idf_dict = {i:idf_vals[i] for i in vocab.values()} #keys are indices; values are IDF scores\n",
        "            #Get POS tags for tweets and save as a string\n",
        "            print(\"came here\")\n",
        "            tweet_tags = []\n",
        "            for t in tweets:\n",
        "                tokenizer = Tokenizer(preserve_case=True)\n",
        "                tokens = tokenizer.tokenize(preprocess(t))\n",
        "                tags = nltk.pos_tag(tokens)\n",
        "                tag_list = [x[1] for x in tags]\n",
        "                #for i in range(0, len(tokens)):\n",
        "                tag_str = \" \".join(tag_list)\n",
        "                tweet_tags.append(tag_str)\n",
        "            pos_vectorizer = TfidfVectorizer(tokenizer=None,    lowercase=False,    preprocessor=None,    ngram_range=(1, 3),    stop_words=None, #We do better when we keep stopwords\n",
        "                                             use_idf=False,    smooth_idf=False,    norm=None, #Applies l2 norm smoothing\n",
        "                                             decode_error='replace',    max_features=5000      )#  min_df=1,   max_df=0.501,\n",
        "             #Construct POS TF matrix and get vocab dict\n",
        "            pos = pos_vectorizer.fit_transform(pd.Series(tweet_tags)).toarray()\n",
        "            pos_vocab = {v:i for i, v in enumerate(pos_vectorizer.get_feature_names_out())}\n",
        "            M = np.concatenate([tfidf,pos],axis=1)\n",
        "            #Finally get a list of variable names\n",
        "            variables = ['']*len(vocab)\n",
        "            for k,v in vocab.items():\n",
        "                variables[v] = 'tfidf_'+k\n",
        "            pos_variables = ['']*len(pos_vocab)\n",
        "            for k,v in pos_vocab.items():\n",
        "                pos_variables[v] = 'POS_' + k\n",
        "\n",
        "            feature_names = variables+pos_variables\n",
        "            M_df = pd.DataFrame(M,columns = feature_names)\n",
        "            df = df.join(M_df)\n",
        "\n",
        "\n",
        "            ## save the pickles\n",
        "            new_vocab = {v:i for i, v in enumerate(variables)}\n",
        "            new_vectorizer = TfidfVectorizer(    #vectorizer = sklearn.feature_extraction.text.CountVectorizer(\n",
        "                tokenizer=spacy_tokenizer,    preprocessor=preprocess,    ngram_range=(1, 3),    stop_words='english', #We do better when we keep stopwords\n",
        "                use_idf=False,    smooth_idf=False,    norm=None, #Applies l2 norm smoothing\n",
        "                decode_error='replace',    min_df=1,    max_df=1.0,    vocabulary=new_vocab    )\n",
        "            joblib.dump(new_vectorizer, '/content/drive/MyDrive/Colab_Notebooks/deliberative-politics-main/lexica/final_tfidf_vectorizer.pkl')\n",
        "            #Results are the same if use IDF but the problem is that IDF will be different if we use different data. Instead we have to use the original IDF scores and multiply them by the new matrix.\n",
        "            joblib.dump(idf_vals, '/content/drive/MyDrive/Colab_Notebooks/deliberative-politics-main/lexica/final_idf_vectorizer.pkl')\n",
        "\n",
        "            #This is simpler as we do not need to worry about IDF but it will be slower as we have to compute the POS tags for the new data. Here we can simply use the old POS tags.\n",
        "            new_pos = {v:i for i, v in enumerate(pos_variables)}\n",
        "            new_pos_vectorizer = TfidfVectorizer(    tokenizer=None,    lowercase=False,    preprocessor=None,    ngram_range=(1, 3),    stop_words=None, #We do better when we keep stopwords\n",
        "                                                   use_idf=False,    smooth_idf=False,    norm=None, #Applies l2 norm smoothing\n",
        "                                                 decode_error='replace',    min_df=1,    max_df=1.0,    vocabulary=new_pos    )\n",
        "            joblib.dump(new_pos_vectorizer, '/content/drive/MyDrive/Colab_Notebooks/deliberative-politics-main/lexica/final_pos_vectorizer.pkl')\n",
        "            return df\n",
        "        #print(tokens[i],tag_list[i])"
      ]
    },
    {
      "cell_type": "code",
      "execution_count": null,
      "metadata": {
        "id": "YvaoCwssdAWP"
      },
      "outputs": [],
      "source": [
        "\n",
        "# code\n",
        "# Python code to merge dict using a single\n",
        "# expression\n",
        "def Merge(dict1, dict2):\n",
        "    res = {**dict1, **dict2}\n",
        "    return res\n",
        "\n",
        "def extract_feats(filename, X_col):\n",
        "    df = emolize_messages( filename,1,0,\"all\")\n",
        "    extract_harbingers(df, X_col)\n",
        "    extract_politeness_feats(df, X_col)\n",
        "    df = extract_tfidf_and_pos(df,X_col)\n",
        "    timestr = time.strftime(\"%Y%m%d-%H%M\")\n",
        "    #print timestr\n",
        "    df.to_csv(filename+\"_allfeats_\"+timestr+\".csv\")"
      ]
    },
    {
      "cell_type": "code",
      "execution_count": null,
      "metadata": {
        "colab": {
          "base_uri": "https://localhost:8080/"
        },
        "id": "_YST7t-8dAWQ",
        "outputId": "5b383185-8f64-4b39-b87e-58e0bf303553"
      },
      "outputs": [
        {
          "output_type": "stream",
          "name": "stderr",
          "text": [
            "<ipython-input-8-3e7099eac5d5>:33: FutureWarning: The frame.append method is deprecated and will be removed from pandas in a future version. Use pandas.concat instead.\n",
            "  df = df.append(lexicon)\n",
            "<ipython-input-8-3e7099eac5d5>:47: FutureWarning: The frame.append method is deprecated and will be removed from pandas in a future version. Use pandas.concat instead.\n",
            "  df = df.append(lexicon)\n",
            "<ipython-input-8-3e7099eac5d5>:64: FutureWarning: The frame.append method is deprecated and will be removed from pandas in a future version. Use pandas.concat instead.\n",
            "  df = df.append(lexicon)\n",
            "<ipython-input-8-3e7099eac5d5>:77: FutureWarning: The frame.append method is deprecated and will be removed from pandas in a future version. Use pandas.concat instead.\n",
            "  df = df.append(lexicon)\n"
          ]
        },
        {
          "output_type": "stream",
          "name": "stdout",
          "text": [
            "{'text': 'text', 'anger': 0.0, 'anticipation': 0.0, 'disgust': 0.0, 'fear': 0.0, 'joy': 0.0, 'negative': 0.0, 'positive': 0.0, 'sadness': 0.0, 'surprise': 0.0, 'trust': 0.0, 'PPRON': 0.0, 'BODY': 0.0, 'WE': 0.0, 'DEATH': 0.0, 'FOCUSFUTURE': 0.0, 'FEEL': 0.0, 'INTERROG': 0.0, 'NUMBER': 0.0, 'POSEMO': 0.0, 'NEGATE': 0.0, 'QUANT': 0.0, 'THEY': 0.0, 'AFFECT': 0.0, 'RELATIV': 0.0, 'HOME': 0.0, 'CONJ': 0.0, 'COGPROC': 0.0, 'SEXUAL': 0.0, 'AUXVERB': 0.0, 'SHEHE': 0.0, 'BIO': 0.0, 'DIFFER': 0.0, 'POWER': 0.0, 'NETSPEAK': 0.0, 'INFORMAL': 0.0, 'CAUSE': 0.0, 'FILLER': 0.0, 'INSIGHT': 0.0, 'LEISURE': 0.0, 'NEGEMO': 0.0, 'MOTION': 0.0, 'SEE': 0.0, 'FOCUSPAST': 0.0, 'ANGER': 0.0, 'ARTICLE': 0.0, 'NONFLU': 0.0, 'MALE': 0.0, 'WORK': 0.0, 'FRIEND': 0.0, 'FUNCTION': 0.0, 'RISK': 0.0, 'FAMILY': 0.0, 'SPACE': 0.0, 'I': 0.0, 'IPRON': 0.0, 'SOCIAL': 0.0, 'ASSENT': 0.0, 'DRIVES': 0.0, 'PERCEPT': 0.0, 'VERB': 0.0, 'HEAR': 0.0, 'FEMALE': 0.0, 'DISCREP': 0.0, 'YOU': 0.0, 'ADJ': 0.0, 'ACHIEVE': 0.0, 'RELIG': 0.0, 'TENTAT': 0.0, 'COMPARE': 0.0, 'ADVERB': 0.0, 'PRONOUN': 0.0, 'MONEY': 0.0, 'FOCUSPRESENT': 0.0, 'INGEST': 0.0, 'AFFILIATION': 0.0, 'SWEAR': 0.0, 'HEALTH': 0.0, 'SAD': 0.0, 'TIME': 0.0, 'REWARD': 0.0, 'ANX': 0.0, 'PREP': 0.0, 'CERTAIN': 0.0, 'EMP_RES': 0.0, 'UNCIVIL_ABUSE': 0.0, 'CONSTRUCTIVENESS': 0.0, 'JUSTIFICATION': 0.0, 'RECIPROCITY': 0.0, 'JUST_EXT': 0.0, 'RELEVANCE': 0.0, 'JUST_INT': 0.096072345, 'UNCIV': 0.0, 'OFFEN': 0.0}\n"
          ]
        },
        {
          "output_type": "stream",
          "name": "stderr",
          "text": [
            "<ipython-input-8-3e7099eac5d5>:33: FutureWarning: The frame.append method is deprecated and will be removed from pandas in a future version. Use pandas.concat instead.\n",
            "  df = df.append(lexicon)\n",
            "<ipython-input-8-3e7099eac5d5>:47: FutureWarning: The frame.append method is deprecated and will be removed from pandas in a future version. Use pandas.concat instead.\n",
            "  df = df.append(lexicon)\n",
            "<ipython-input-8-3e7099eac5d5>:64: FutureWarning: The frame.append method is deprecated and will be removed from pandas in a future version. Use pandas.concat instead.\n",
            "  df = df.append(lexicon)\n",
            "<ipython-input-8-3e7099eac5d5>:77: FutureWarning: The frame.append method is deprecated and will be removed from pandas in a future version. Use pandas.concat instead.\n",
            "  df = df.append(lexicon)\n"
          ]
        },
        {
          "output_type": "stream",
          "name": "stdout",
          "text": [
            "{'text': 'i think that just having the presence of a good guy with a gun would prevent any action by a bad guy with a gun.', 'anger': 0.11538461538461539, 'anticipation': 0.038461538461538464, 'disgust': 0.038461538461538464, 'fear': 0.15384615384615385, 'joy': 0.038461538461538464, 'negative': 0.11538461538461539, 'positive': 0.07692307692307693, 'sadness': 0.038461538461538464, 'surprise': 0.038461538461538464, 'trust': 0.038461538461538464, 'PPRON': 0.038461538461538464, 'BODY': 0.0, 'WE': 0.0, 'DEATH': 0.0, 'FOCUSFUTURE': 0.0, 'FEEL': 0.0, 'INTERROG': 0.0, 'NUMBER': 0.0, 'POSEMO': 0.038461538461538464, 'NEGATE': 0.0, 'QUANT': 0.0, 'THEY': 0.0, 'AFFECT': 0.07692307692307693, 'RELATIV': 0.0, 'HOME': 0.0, 'CONJ': 0.0, 'COGPROC': 0.07692307692307693, 'SEXUAL': 0.0, 'AUXVERB': 0.07692307692307693, 'SHEHE': 0.0, 'BIO': 0.0, 'DIFFER': 0.0, 'POWER': 0.0, 'NETSPEAK': 0.0, 'INFORMAL': 0.0, 'CAUSE': 0.0, 'FILLER': 0.0, 'INSIGHT': 0.038461538461538464, 'LEISURE': 0.0, 'NEGEMO': 0.038461538461538464, 'MOTION': 0.0, 'SEE': 0.0, 'FOCUSPAST': 0.0, 'ANGER': 0.0, 'ARTICLE': 0.19230769230769232, 'NONFLU': 0.0, 'MALE': 0.0, 'WORK': 0.0, 'FRIEND': 0.0, 'FUNCTION': 0.5384615384615384, 'RISK': 0.038461538461538464, 'FAMILY': 0.0, 'SPACE': 0.0, 'I': 0.038461538461538464, 'IPRON': 0.038461538461538464, 'SOCIAL': 0.0, 'ASSENT': 0.0, 'DRIVES': 0.07692307692307693, 'PERCEPT': 0.0, 'VERB': 0.11538461538461539, 'HEAR': 0.0, 'FEMALE': 0.0, 'DISCREP': 0.038461538461538464, 'YOU': 0.0, 'ADJ': 0.0, 'ACHIEVE': 0.0, 'RELIG': 0.0, 'TENTAT': 0.0, 'COMPARE': 0.0, 'ADVERB': 0.038461538461538464, 'PRONOUN': 0.07692307692307693, 'MONEY': 0.0, 'FOCUSPRESENT': 0.07692307692307693, 'INGEST': 0.0, 'AFFILIATION': 0.0, 'SWEAR': 0.0, 'HEALTH': 0.0, 'SAD': 0.0, 'TIME': 0.0, 'REWARD': 0.038461538461538464, 'ANX': 0.0, 'PREP': 0.15384615384615385, 'CERTAIN': 0.0, 'EMP_RES': 0.016101355884615386, 'UNCIVIL_ABUSE': -0.02396538373076923, 'CONSTRUCTIVENESS': -0.014890110307692307, 'JUSTIFICATION': 0.06542851534615385, 'RECIPROCITY': -0.022640474038461537, 'JUST_EXT': -0.06319083196153846, 'RELEVANCE': 0.06275585880769231, 'JUST_INT': 0.0046642913076923075, 'UNCIV': -0.023965388461538464, 'OFFEN': 0.3659459230769231}\n"
          ]
        },
        {
          "output_type": "stream",
          "name": "stderr",
          "text": [
            "<ipython-input-8-3e7099eac5d5>:33: FutureWarning: The frame.append method is deprecated and will be removed from pandas in a future version. Use pandas.concat instead.\n",
            "  df = df.append(lexicon)\n",
            "<ipython-input-8-3e7099eac5d5>:47: FutureWarning: The frame.append method is deprecated and will be removed from pandas in a future version. Use pandas.concat instead.\n",
            "  df = df.append(lexicon)\n",
            "<ipython-input-8-3e7099eac5d5>:64: FutureWarning: The frame.append method is deprecated and will be removed from pandas in a future version. Use pandas.concat instead.\n",
            "  df = df.append(lexicon)\n",
            "<ipython-input-8-3e7099eac5d5>:77: FutureWarning: The frame.append method is deprecated and will be removed from pandas in a future version. Use pandas.concat instead.\n",
            "  df = df.append(lexicon)\n"
          ]
        },
        {
          "output_type": "stream",
          "name": "stdout",
          "text": [
            "{'text': 'good question! and thats why i think gun control laws do not deter crime; gun ownership deters crime!!', 'anger': 0.18181818181818182, 'anticipation': 0.045454545454545456, 'disgust': 0.0, 'fear': 0.09090909090909091, 'joy': 0.045454545454545456, 'negative': 0.18181818181818182, 'positive': 0.13636363636363635, 'sadness': 0.0, 'surprise': 0.045454545454545456, 'trust': 0.09090909090909091, 'PPRON': 0.045454545454545456, 'BODY': 0.0, 'WE': 0.0, 'DEATH': 0.0, 'FOCUSFUTURE': 0.0, 'FEEL': 0.0, 'INTERROG': 0.0, 'NUMBER': 0.0, 'POSEMO': 0.045454545454545456, 'NEGATE': 0.045454545454545456, 'QUANT': 0.0, 'THEY': 0.0, 'AFFECT': 0.045454545454545456, 'RELATIV': 0.0, 'HOME': 0.0, 'CONJ': 0.045454545454545456, 'COGPROC': 0.13636363636363635, 'SEXUAL': 0.0, 'AUXVERB': 0.045454545454545456, 'SHEHE': 0.0, 'BIO': 0.0, 'DIFFER': 0.045454545454545456, 'POWER': 0.0, 'NETSPEAK': 0.0, 'INFORMAL': 0.0, 'CAUSE': 0.0, 'FILLER': 0.0, 'INSIGHT': 0.09090909090909091, 'LEISURE': 0.0, 'NEGEMO': 0.0, 'MOTION': 0.0, 'SEE': 0.0, 'FOCUSPAST': 0.0, 'ANGER': 0.0, 'ARTICLE': 0.0, 'NONFLU': 0.0, 'MALE': 0.0, 'WORK': 0.0, 'FRIEND': 0.0, 'FUNCTION': 0.22727272727272727, 'RISK': 0.0, 'FAMILY': 0.0, 'SPACE': 0.0, 'I': 0.045454545454545456, 'IPRON': 0.045454545454545456, 'SOCIAL': 0.045454545454545456, 'ASSENT': 0.0, 'DRIVES': 0.045454545454545456, 'PERCEPT': 0.0, 'VERB': 0.09090909090909091, 'HEAR': 0.0, 'FEMALE': 0.0, 'DISCREP': 0.0, 'YOU': 0.0, 'ADJ': 0.0, 'ACHIEVE': 0.0, 'RELIG': 0.0, 'TENTAT': 0.045454545454545456, 'COMPARE': 0.0, 'ADVERB': 0.0, 'PRONOUN': 0.09090909090909091, 'MONEY': 0.0, 'FOCUSPRESENT': 0.09090909090909091, 'INGEST': 0.0, 'AFFILIATION': 0.0, 'SWEAR': 0.0, 'HEALTH': 0.0, 'SAD': 0.0, 'TIME': 0.0, 'REWARD': 0.045454545454545456, 'ANX': 0.0, 'PREP': 0.0, 'CERTAIN': 0.0, 'EMP_RES': 0.009445469818181817, 'UNCIVIL_ABUSE': -0.03959276895454545, 'CONSTRUCTIVENESS': -0.006888309090909092, 'JUSTIFICATION': 0.026083704772727277, 'RECIPROCITY': -0.013768482136363636, 'JUST_EXT': -0.04854830272727272, 'RELEVANCE': 0.04874702281818182, 'JUST_INT': 0.009145589181818181, 'UNCIV': -0.03959276818181818, 'OFFEN': 0.23998727272727274}\n"
          ]
        },
        {
          "output_type": "stream",
          "name": "stderr",
          "text": [
            "<ipython-input-8-3e7099eac5d5>:33: FutureWarning: The frame.append method is deprecated and will be removed from pandas in a future version. Use pandas.concat instead.\n",
            "  df = df.append(lexicon)\n",
            "<ipython-input-8-3e7099eac5d5>:47: FutureWarning: The frame.append method is deprecated and will be removed from pandas in a future version. Use pandas.concat instead.\n",
            "  df = df.append(lexicon)\n",
            "<ipython-input-8-3e7099eac5d5>:64: FutureWarning: The frame.append method is deprecated and will be removed from pandas in a future version. Use pandas.concat instead.\n",
            "  df = df.append(lexicon)\n",
            "<ipython-input-8-3e7099eac5d5>:77: FutureWarning: The frame.append method is deprecated and will be removed from pandas in a future version. Use pandas.concat instead.\n",
            "  df = df.append(lexicon)\n"
          ]
        },
        {
          "output_type": "stream",
          "name": "stdout",
          "text": [
            "{'text': 'the only defense for a nuclear attack is to send up our own nukes to intercept them. same goes for guns.', 'anger': 0.08695652173913043, 'anticipation': 0.0, 'disgust': 0.0, 'fear': 0.08695652173913043, 'joy': 0.0, 'negative': 0.08695652173913043, 'positive': 0.0, 'sadness': 0.0, 'surprise': 0.0, 'trust': 0.0, 'PPRON': 0.08695652173913043, 'BODY': 0.0, 'WE': 0.043478260869565216, 'DEATH': 0.0, 'FOCUSFUTURE': 0.0, 'FEEL': 0.0, 'INTERROG': 0.0, 'NUMBER': 0.0, 'POSEMO': 0.0, 'NEGATE': 0.0, 'QUANT': 0.0, 'THEY': 0.043478260869565216, 'AFFECT': 0.0, 'RELATIV': 0.08695652173913043, 'HOME': 0.0, 'CONJ': 0.0, 'COGPROC': 0.0, 'SEXUAL': 0.0, 'AUXVERB': 0.043478260869565216, 'SHEHE': 0.0, 'BIO': 0.0, 'DIFFER': 0.0, 'POWER': 0.043478260869565216, 'NETSPEAK': 0.0, 'INFORMAL': 0.0, 'CAUSE': 0.0, 'FILLER': 0.0, 'INSIGHT': 0.0, 'LEISURE': 0.0, 'NEGEMO': 0.0, 'MOTION': 0.043478260869565216, 'SEE': 0.0, 'FOCUSPAST': 0.0, 'ANGER': 0.0, 'ARTICLE': 0.08695652173913043, 'NONFLU': 0.0, 'MALE': 0.0, 'WORK': 0.0, 'FRIEND': 0.0, 'FUNCTION': 0.43478260869565216, 'RISK': 0.0, 'FAMILY': 0.0, 'SPACE': 0.043478260869565216, 'I': 0.0, 'IPRON': 0.0, 'SOCIAL': 0.13043478260869565, 'ASSENT': 0.0, 'DRIVES': 0.08695652173913043, 'PERCEPT': 0.0, 'VERB': 0.08695652173913043, 'HEAR': 0.0, 'FEMALE': 0.0, 'DISCREP': 0.0, 'YOU': 0.0, 'ADJ': 0.08695652173913043, 'ACHIEVE': 0.0, 'RELIG': 0.0, 'TENTAT': 0.0, 'COMPARE': 0.043478260869565216, 'ADVERB': 0.0, 'PRONOUN': 0.08695652173913043, 'MONEY': 0.0, 'FOCUSPRESENT': 0.08695652173913043, 'INGEST': 0.0, 'AFFILIATION': 0.043478260869565216, 'SWEAR': 0.0, 'HEALTH': 0.0, 'SAD': 0.0, 'TIME': 0.0, 'REWARD': 0.0, 'ANX': 0.0, 'PREP': 0.21739130434782608, 'CERTAIN': 0.0, 'EMP_RES': 0.013868605130434784, 'UNCIVIL_ABUSE': -0.01433001747826087, 'CONSTRUCTIVENESS': -1.8745521739130876e-05, 'JUSTIFICATION': 0.08142968760869565, 'RECIPROCITY': -0.00354670508695652, 'JUST_EXT': -0.07307259204347827, 'RELEVANCE': 0.11387377865217392, 'JUST_INT': 0.007128514478260869, 'UNCIV': -0.014330053913043476, 'OFFEN': 0.2861269695652174}\n"
          ]
        },
        {
          "output_type": "stream",
          "name": "stderr",
          "text": [
            "<ipython-input-8-3e7099eac5d5>:33: FutureWarning: The frame.append method is deprecated and will be removed from pandas in a future version. Use pandas.concat instead.\n",
            "  df = df.append(lexicon)\n",
            "<ipython-input-8-3e7099eac5d5>:47: FutureWarning: The frame.append method is deprecated and will be removed from pandas in a future version. Use pandas.concat instead.\n",
            "  df = df.append(lexicon)\n",
            "<ipython-input-8-3e7099eac5d5>:64: FutureWarning: The frame.append method is deprecated and will be removed from pandas in a future version. Use pandas.concat instead.\n",
            "  df = df.append(lexicon)\n",
            "<ipython-input-8-3e7099eac5d5>:77: FutureWarning: The frame.append method is deprecated and will be removed from pandas in a future version. Use pandas.concat instead.\n",
            "  df = df.append(lexicon)\n"
          ]
        },
        {
          "output_type": "stream",
          "name": "stdout",
          "text": [
            "{'text': \"guns aren't the problem, people are the problem. we need to stop punishing law abiding citizens who own guns because of the actions of a group of deranged people who shouldn't have them.\", 'anger': 0.05555555555555555, 'anticipation': 0.0, 'disgust': 0.0, 'fear': 0.1388888888888889, 'joy': 0.0, 'negative': 0.1388888888888889, 'positive': 0.05555555555555555, 'sadness': 0.05555555555555555, 'surprise': 0.0, 'trust': 0.027777777777777776, 'PPRON': 0.05555555555555555, 'BODY': 0.0, 'WE': 0.027777777777777776, 'DEATH': 0.0, 'FOCUSFUTURE': 0.0, 'FEEL': 0.0, 'INTERROG': 0.05555555555555555, 'NUMBER': 0.0, 'POSEMO': 0.0, 'NEGATE': 0.05555555555555555, 'QUANT': 0.0, 'THEY': 0.027777777777777776, 'AFFECT': 0.0, 'RELATIV': 0.027777777777777776, 'HOME': 0.0, 'CONJ': 0.0, 'COGPROC': 0.08333333333333333, 'SEXUAL': 0.0, 'AUXVERB': 0.1111111111111111, 'SHEHE': 0.0, 'BIO': 0.0, 'DIFFER': 0.027777777777777776, 'POWER': 0.0, 'NETSPEAK': 0.0, 'INFORMAL': 0.0, 'CAUSE': 0.0, 'FILLER': 0.0, 'INSIGHT': 0.0, 'LEISURE': 0.0, 'NEGEMO': 0.0, 'MOTION': 0.0, 'SEE': 0.0, 'FOCUSPAST': 0.0, 'ANGER': 0.0, 'ARTICLE': 0.1111111111111111, 'NONFLU': 0.0, 'MALE': 0.0, 'WORK': 0.0, 'FRIEND': 0.0, 'FUNCTION': 0.4444444444444444, 'RISK': 0.027777777777777776, 'FAMILY': 0.0, 'SPACE': 0.0, 'I': 0.0, 'IPRON': 0.05555555555555555, 'SOCIAL': 0.1388888888888889, 'ASSENT': 0.0, 'DRIVES': 0.05555555555555555, 'PERCEPT': 0.0, 'VERB': 0.1388888888888889, 'HEAR': 0.0, 'FEMALE': 0.0, 'DISCREP': 0.05555555555555555, 'YOU': 0.0, 'ADJ': 0.0, 'ACHIEVE': 0.0, 'RELIG': 0.0, 'TENTAT': 0.0, 'COMPARE': 0.0, 'ADVERB': 0.0, 'PRONOUN': 0.1111111111111111, 'MONEY': 0.0, 'FOCUSPRESENT': 0.1111111111111111, 'INGEST': 0.0, 'AFFILIATION': 0.027777777777777776, 'SWEAR': 0.0, 'HEALTH': 0.0, 'SAD': 0.0, 'TIME': 0.027777777777777776, 'REWARD': 0.0, 'ANX': 0.0, 'PREP': 0.1111111111111111, 'CERTAIN': 0.0, 'EMP_RES': 0.007470736083333334, 'UNCIVIL_ABUSE': -0.027377105083333336, 'CONSTRUCTIVENESS': 0.0016068219444444446, 'JUSTIFICATION': 0.06294949766666666, 'RECIPROCITY': -0.00954009988888889, 'JUST_EXT': -0.07151328358333334, 'RELEVANCE': 0.09723926080555557, 'JUST_INT': 0.014992439611111111, 'UNCIV': -0.02737713166666667, 'OFFEN': 0.3233749425}\n"
          ]
        },
        {
          "output_type": "stream",
          "name": "stderr",
          "text": [
            "<ipython-input-8-3e7099eac5d5>:33: FutureWarning: The frame.append method is deprecated and will be removed from pandas in a future version. Use pandas.concat instead.\n",
            "  df = df.append(lexicon)\n",
            "<ipython-input-8-3e7099eac5d5>:47: FutureWarning: The frame.append method is deprecated and will be removed from pandas in a future version. Use pandas.concat instead.\n",
            "  df = df.append(lexicon)\n",
            "<ipython-input-8-3e7099eac5d5>:64: FutureWarning: The frame.append method is deprecated and will be removed from pandas in a future version. Use pandas.concat instead.\n",
            "  df = df.append(lexicon)\n",
            "<ipython-input-8-3e7099eac5d5>:77: FutureWarning: The frame.append method is deprecated and will be removed from pandas in a future version. Use pandas.concat instead.\n",
            "  df = df.append(lexicon)\n"
          ]
        },
        {
          "output_type": "stream",
          "name": "stdout",
          "text": [
            "{'text': 'a good gun with a gun would cause most bad guys with a gun not to use their guns.', 'anger': 0.25, 'anticipation': 0.05, 'disgust': 0.05, 'fear': 0.25, 'joy': 0.05, 'negative': 0.25, 'positive': 0.05, 'sadness': 0.05, 'surprise': 0.05, 'trust': 0.05, 'PPRON': 0.0, 'BODY': 0.0, 'WE': 0.0, 'DEATH': 0.0, 'FOCUSFUTURE': 0.0, 'FEEL': 0.0, 'INTERROG': 0.0, 'NUMBER': 0.0, 'POSEMO': 0.05, 'NEGATE': 0.05, 'QUANT': 0.05, 'THEY': 0.0, 'AFFECT': 0.1, 'RELATIV': 0.0, 'HOME': 0.0, 'CONJ': 0.0, 'COGPROC': 0.2, 'SEXUAL': 0.0, 'AUXVERB': 0.05, 'SHEHE': 0.0, 'BIO': 0.0, 'DIFFER': 0.05, 'POWER': 0.0, 'NETSPEAK': 0.0, 'INFORMAL': 0.0, 'CAUSE': 0.05, 'FILLER': 0.0, 'INSIGHT': 0.0, 'LEISURE': 0.0, 'NEGEMO': 0.05, 'MOTION': 0.0, 'SEE': 0.0, 'FOCUSPAST': 0.0, 'ANGER': 0.0, 'ARTICLE': 0.15, 'NONFLU': 0.0, 'MALE': 0.0, 'WORK': 0.0, 'FRIEND': 0.0, 'FUNCTION': 0.4, 'RISK': 0.05, 'FAMILY': 0.0, 'SPACE': 0.0, 'I': 0.0, 'IPRON': 0.0, 'SOCIAL': 0.0, 'ASSENT': 0.0, 'DRIVES': 0.1, 'PERCEPT': 0.0, 'VERB': 0.1, 'HEAR': 0.0, 'FEMALE': 0.0, 'DISCREP': 0.05, 'YOU': 0.0, 'ADJ': 0.05, 'ACHIEVE': 0.0, 'RELIG': 0.0, 'TENTAT': 0.05, 'COMPARE': 0.05, 'ADVERB': 0.0, 'PRONOUN': 0.0, 'MONEY': 0.0, 'FOCUSPRESENT': 0.05, 'INGEST': 0.0, 'AFFILIATION': 0.0, 'SWEAR': 0.0, 'HEALTH': 0.0, 'SAD': 0.0, 'TIME': 0.0, 'REWARD': 0.05, 'ANX': 0.0, 'PREP': 0.15, 'CERTAIN': 0.0, 'EMP_RES': -0.0015553819000000018, 'UNCIVIL_ABUSE': -0.0234823249, 'CONSTRUCTIVENESS': -0.015150681849999997, 'JUSTIFICATION': 0.060975192750000004, 'RECIPROCITY': -0.02436648515, 'JUST_EXT': -0.05858671025000001, 'RELEVANCE': 0.05957879495, 'JUST_INT': 0.013341761599999998, 'UNCIV': -0.02348227, 'OFFEN': 0.28244081000000004}\n"
          ]
        },
        {
          "output_type": "stream",
          "name": "stderr",
          "text": [
            "<ipython-input-8-3e7099eac5d5>:33: FutureWarning: The frame.append method is deprecated and will be removed from pandas in a future version. Use pandas.concat instead.\n",
            "  df = df.append(lexicon)\n",
            "<ipython-input-8-3e7099eac5d5>:47: FutureWarning: The frame.append method is deprecated and will be removed from pandas in a future version. Use pandas.concat instead.\n",
            "  df = df.append(lexicon)\n",
            "<ipython-input-8-3e7099eac5d5>:64: FutureWarning: The frame.append method is deprecated and will be removed from pandas in a future version. Use pandas.concat instead.\n",
            "  df = df.append(lexicon)\n",
            "<ipython-input-8-3e7099eac5d5>:77: FutureWarning: The frame.append method is deprecated and will be removed from pandas in a future version. Use pandas.concat instead.\n",
            "  df = df.append(lexicon)\n"
          ]
        },
        {
          "output_type": "stream",
          "name": "stdout",
          "text": [
            "{'text': 'all the trategies we were talking about would still happen, even if auto guns didnt exist. same amount of people, same outcome.', 'anger': 0.038461538461538464, 'anticipation': 0.038461538461538464, 'disgust': 0.0, 'fear': 0.038461538461538464, 'joy': 0.0, 'negative': 0.038461538461538464, 'positive': 0.038461538461538464, 'sadness': 0.0, 'surprise': 0.0, 'trust': 0.0, 'PPRON': 0.038461538461538464, 'BODY': 0.0, 'WE': 0.038461538461538464, 'DEATH': 0.0, 'FOCUSFUTURE': 0.0, 'FEEL': 0.0, 'INTERROG': 0.0, 'NUMBER': 0.0, 'POSEMO': 0.0, 'NEGATE': 0.038461538461538464, 'QUANT': 0.07692307692307693, 'THEY': 0.0, 'AFFECT': 0.0, 'RELATIV': 0.038461538461538464, 'HOME': 0.0, 'CONJ': 0.038461538461538464, 'COGPROC': 0.15384615384615385, 'SEXUAL': 0.0, 'AUXVERB': 0.11538461538461539, 'SHEHE': 0.0, 'BIO': 0.0, 'DIFFER': 0.07692307692307693, 'POWER': 0.0, 'NETSPEAK': 0.0, 'INFORMAL': 0.0, 'CAUSE': 0.0, 'FILLER': 0.0, 'INSIGHT': 0.0, 'LEISURE': 0.0, 'NEGEMO': 0.0, 'MOTION': 0.0, 'SEE': 0.0, 'FOCUSPAST': 0.07692307692307693, 'ANGER': 0.0, 'ARTICLE': 0.038461538461538464, 'NONFLU': 0.0, 'MALE': 0.0, 'WORK': 0.0, 'FRIEND': 0.0, 'FUNCTION': 0.38461538461538464, 'RISK': 0.0, 'FAMILY': 0.0, 'SPACE': 0.0, 'I': 0.0, 'IPRON': 0.0, 'SOCIAL': 0.07692307692307693, 'ASSENT': 0.0, 'DRIVES': 0.038461538461538464, 'PERCEPT': 0.0, 'VERB': 0.15384615384615385, 'HEAR': 0.0, 'FEMALE': 0.0, 'DISCREP': 0.07692307692307693, 'YOU': 0.0, 'ADJ': 0.07692307692307693, 'ACHIEVE': 0.0, 'RELIG': 0.0, 'TENTAT': 0.038461538461538464, 'COMPARE': 0.07692307692307693, 'ADVERB': 0.11538461538461539, 'PRONOUN': 0.038461538461538464, 'MONEY': 0.0, 'FOCUSPRESENT': 0.07692307692307693, 'INGEST': 0.0, 'AFFILIATION': 0.038461538461538464, 'SWEAR': 0.0, 'HEALTH': 0.0, 'SAD': 0.0, 'TIME': 0.038461538461538464, 'REWARD': 0.0, 'ANX': 0.0, 'PREP': 0.07692307692307693, 'CERTAIN': 0.038461538461538464, 'EMP_RES': -0.006330472807692307, 'UNCIVIL_ABUSE': -0.020339150884615385, 'CONSTRUCTIVENESS': 0.0034557231923076923, 'JUSTIFICATION': 0.062244118384615375, 'RECIPROCITY': -0.012561982461538461, 'JUST_EXT': -0.053595300423076926, 'RELEVANCE': 0.08329285584615384, 'JUST_INT': 0.01372088223076923, 'UNCIV': -0.020339192307692315, 'OFFEN': 0.24259421923076926}\n"
          ]
        },
        {
          "output_type": "stream",
          "name": "stderr",
          "text": [
            "<ipython-input-8-3e7099eac5d5>:33: FutureWarning: The frame.append method is deprecated and will be removed from pandas in a future version. Use pandas.concat instead.\n",
            "  df = df.append(lexicon)\n",
            "<ipython-input-8-3e7099eac5d5>:47: FutureWarning: The frame.append method is deprecated and will be removed from pandas in a future version. Use pandas.concat instead.\n",
            "  df = df.append(lexicon)\n",
            "<ipython-input-8-3e7099eac5d5>:64: FutureWarning: The frame.append method is deprecated and will be removed from pandas in a future version. Use pandas.concat instead.\n",
            "  df = df.append(lexicon)\n",
            "<ipython-input-8-3e7099eac5d5>:77: FutureWarning: The frame.append method is deprecated and will be removed from pandas in a future version. Use pandas.concat instead.\n",
            "  df = df.append(lexicon)\n"
          ]
        },
        {
          "output_type": "stream",
          "name": "stdout",
          "text": [
            "{'text': 'the only defense for a nuclear attack is to send up our own nukes to intercept them. same goes for guns.', 'anger': 0.08695652173913043, 'anticipation': 0.0, 'disgust': 0.0, 'fear': 0.08695652173913043, 'joy': 0.0, 'negative': 0.08695652173913043, 'positive': 0.0, 'sadness': 0.0, 'surprise': 0.0, 'trust': 0.0, 'PPRON': 0.08695652173913043, 'BODY': 0.0, 'WE': 0.043478260869565216, 'DEATH': 0.0, 'FOCUSFUTURE': 0.0, 'FEEL': 0.0, 'INTERROG': 0.0, 'NUMBER': 0.0, 'POSEMO': 0.0, 'NEGATE': 0.0, 'QUANT': 0.0, 'THEY': 0.043478260869565216, 'AFFECT': 0.0, 'RELATIV': 0.08695652173913043, 'HOME': 0.0, 'CONJ': 0.0, 'COGPROC': 0.0, 'SEXUAL': 0.0, 'AUXVERB': 0.043478260869565216, 'SHEHE': 0.0, 'BIO': 0.0, 'DIFFER': 0.0, 'POWER': 0.043478260869565216, 'NETSPEAK': 0.0, 'INFORMAL': 0.0, 'CAUSE': 0.0, 'FILLER': 0.0, 'INSIGHT': 0.0, 'LEISURE': 0.0, 'NEGEMO': 0.0, 'MOTION': 0.043478260869565216, 'SEE': 0.0, 'FOCUSPAST': 0.0, 'ANGER': 0.0, 'ARTICLE': 0.08695652173913043, 'NONFLU': 0.0, 'MALE': 0.0, 'WORK': 0.0, 'FRIEND': 0.0, 'FUNCTION': 0.43478260869565216, 'RISK': 0.0, 'FAMILY': 0.0, 'SPACE': 0.043478260869565216, 'I': 0.0, 'IPRON': 0.0, 'SOCIAL': 0.13043478260869565, 'ASSENT': 0.0, 'DRIVES': 0.08695652173913043, 'PERCEPT': 0.0, 'VERB': 0.08695652173913043, 'HEAR': 0.0, 'FEMALE': 0.0, 'DISCREP': 0.0, 'YOU': 0.0, 'ADJ': 0.08695652173913043, 'ACHIEVE': 0.0, 'RELIG': 0.0, 'TENTAT': 0.0, 'COMPARE': 0.043478260869565216, 'ADVERB': 0.0, 'PRONOUN': 0.08695652173913043, 'MONEY': 0.0, 'FOCUSPRESENT': 0.08695652173913043, 'INGEST': 0.0, 'AFFILIATION': 0.043478260869565216, 'SWEAR': 0.0, 'HEALTH': 0.0, 'SAD': 0.0, 'TIME': 0.0, 'REWARD': 0.0, 'ANX': 0.0, 'PREP': 0.21739130434782608, 'CERTAIN': 0.0, 'EMP_RES': 0.013868605130434784, 'UNCIVIL_ABUSE': -0.01433001747826087, 'CONSTRUCTIVENESS': -1.8745521739130876e-05, 'JUSTIFICATION': 0.08142968760869565, 'RECIPROCITY': -0.00354670508695652, 'JUST_EXT': -0.07307259204347827, 'RELEVANCE': 0.11387377865217392, 'JUST_INT': 0.007128514478260869, 'UNCIV': -0.014330053913043476, 'OFFEN': 0.2861269695652174}\n"
          ]
        },
        {
          "output_type": "stream",
          "name": "stderr",
          "text": [
            "<ipython-input-8-3e7099eac5d5>:33: FutureWarning: The frame.append method is deprecated and will be removed from pandas in a future version. Use pandas.concat instead.\n",
            "  df = df.append(lexicon)\n",
            "<ipython-input-8-3e7099eac5d5>:47: FutureWarning: The frame.append method is deprecated and will be removed from pandas in a future version. Use pandas.concat instead.\n",
            "  df = df.append(lexicon)\n",
            "<ipython-input-8-3e7099eac5d5>:64: FutureWarning: The frame.append method is deprecated and will be removed from pandas in a future version. Use pandas.concat instead.\n",
            "  df = df.append(lexicon)\n",
            "<ipython-input-8-3e7099eac5d5>:77: FutureWarning: The frame.append method is deprecated and will be removed from pandas in a future version. Use pandas.concat instead.\n",
            "  df = df.append(lexicon)\n"
          ]
        },
        {
          "output_type": "stream",
          "name": "stdout",
          "text": [
            "{'text': 'all of these dangerous cases exist, only because guns exist in the first place. remove them all and violence will drop dramatically.', 'anger': 0.04, 'anticipation': 0.0, 'disgust': 0.0, 'fear': 0.12, 'joy': 0.0, 'negative': 0.12, 'positive': 0.0, 'sadness': 0.08, 'surprise': 0.0, 'trust': 0.0, 'PPRON': 0.04, 'BODY': 0.0, 'WE': 0.0, 'DEATH': 0.0, 'FOCUSFUTURE': 0.04, 'FEEL': 0.0, 'INTERROG': 0.0, 'NUMBER': 0.04, 'POSEMO': 0.0, 'NEGATE': 0.0, 'QUANT': 0.08, 'THEY': 0.04, 'AFFECT': 0.04, 'RELATIV': 0.16, 'HOME': 0.0, 'CONJ': 0.04, 'COGPROC': 0.08, 'SEXUAL': 0.0, 'AUXVERB': 0.04, 'SHEHE': 0.0, 'BIO': 0.0, 'DIFFER': 0.0, 'POWER': 0.0, 'NETSPEAK': 0.0, 'INFORMAL': 0.0, 'CAUSE': 0.0, 'FILLER': 0.0, 'INSIGHT': 0.0, 'LEISURE': 0.0, 'NEGEMO': 0.04, 'MOTION': 0.04, 'SEE': 0.0, 'FOCUSPAST': 0.0, 'ANGER': 0.0, 'ARTICLE': 0.04, 'NONFLU': 0.0, 'MALE': 0.0, 'WORK': 0.0, 'FRIEND': 0.0, 'FUNCTION': 0.28, 'RISK': 0.04, 'FAMILY': 0.0, 'SPACE': 0.08, 'I': 0.0, 'IPRON': 0.04, 'SOCIAL': 0.04, 'ASSENT': 0.0, 'DRIVES': 0.08, 'PERCEPT': 0.0, 'VERB': 0.04, 'HEAR': 0.0, 'FEMALE': 0.0, 'DISCREP': 0.0, 'YOU': 0.0, 'ADJ': 0.0, 'ACHIEVE': 0.04, 'RELIG': 0.0, 'TENTAT': 0.0, 'COMPARE': 0.0, 'ADVERB': 0.0, 'PRONOUN': 0.08, 'MONEY': 0.0, 'FOCUSPRESENT': 0.0, 'INGEST': 0.0, 'AFFILIATION': 0.0, 'SWEAR': 0.0, 'HEALTH': 0.0, 'SAD': 0.0, 'TIME': 0.04, 'REWARD': 0.0, 'ANX': 0.0, 'PREP': 0.08, 'CERTAIN': 0.08, 'EMP_RES': 0.007086110080000003, 'UNCIVIL_ABUSE': -0.013419108599999998, 'CONSTRUCTIVENESS': 0.015117927440000001, 'JUSTIFICATION': 0.07087805812, 'RECIPROCITY': -0.007252662359999999, 'JUST_EXT': -0.058473363880000004, 'RELEVANCE': 0.094849448, 'JUST_INT': 0.0030724797200000005, 'UNCIV': -0.013419107599999997, 'OFFEN': 0.24705399919999999}\n"
          ]
        },
        {
          "output_type": "stream",
          "name": "stderr",
          "text": [
            "<ipython-input-8-3e7099eac5d5>:33: FutureWarning: The frame.append method is deprecated and will be removed from pandas in a future version. Use pandas.concat instead.\n",
            "  df = df.append(lexicon)\n",
            "<ipython-input-8-3e7099eac5d5>:47: FutureWarning: The frame.append method is deprecated and will be removed from pandas in a future version. Use pandas.concat instead.\n",
            "  df = df.append(lexicon)\n",
            "<ipython-input-8-3e7099eac5d5>:64: FutureWarning: The frame.append method is deprecated and will be removed from pandas in a future version. Use pandas.concat instead.\n",
            "  df = df.append(lexicon)\n",
            "<ipython-input-8-3e7099eac5d5>:77: FutureWarning: The frame.append method is deprecated and will be removed from pandas in a future version. Use pandas.concat instead.\n",
            "  df = df.append(lexicon)\n"
          ]
        },
        {
          "output_type": "stream",
          "name": "stdout",
          "text": [
            "{'text': \"well, that's obviously untrue. even if you think automatic guns should be legal, they clearly make it easier to kill more people in a shorter amount of time.\", 'anger': 0.03125, 'anticipation': 0.03125, 'disgust': 0.0, 'fear': 0.0625, 'joy': 0.0, 'negative': 0.0625, 'positive': 0.0625, 'sadness': 0.03125, 'surprise': 0.0, 'trust': 0.0625, 'PPRON': 0.0625, 'BODY': 0.0, 'WE': 0.0, 'DEATH': 0.0, 'FOCUSFUTURE': 0.0, 'FEEL': 0.0, 'INTERROG': 0.0, 'NUMBER': 0.0, 'POSEMO': 0.0625, 'NEGATE': 0.0, 'QUANT': 0.0625, 'THEY': 0.03125, 'AFFECT': 0.0625, 'RELATIV': 0.0625, 'HOME': 0.0, 'CONJ': 0.03125, 'COGPROC': 0.1875, 'SEXUAL': 0.0, 'AUXVERB': 0.0625, 'SHEHE': 0.0, 'BIO': 0.0, 'DIFFER': 0.03125, 'POWER': 0.0, 'NETSPEAK': 0.0, 'INFORMAL': 0.03125, 'CAUSE': 0.03125, 'FILLER': 0.0, 'INSIGHT': 0.03125, 'LEISURE': 0.0, 'NEGEMO': 0.0, 'MOTION': 0.0, 'SEE': 0.03125, 'FOCUSPAST': 0.0, 'ANGER': 0.0, 'ARTICLE': 0.03125, 'NONFLU': 0.03125, 'MALE': 0.0, 'WORK': 0.03125, 'FRIEND': 0.0, 'FUNCTION': 0.40625, 'RISK': 0.0, 'FAMILY': 0.0, 'SPACE': 0.0625, 'I': 0.0, 'IPRON': 0.0625, 'SOCIAL': 0.0625, 'ASSENT': 0.0, 'DRIVES': 0.0, 'PERCEPT': 0.03125, 'VERB': 0.125, 'HEAR': 0.0, 'FEMALE': 0.0, 'DISCREP': 0.0625, 'YOU': 0.03125, 'ADJ': 0.125, 'ACHIEVE': 0.0, 'RELIG': 0.0, 'TENTAT': 0.03125, 'COMPARE': 0.09375, 'ADVERB': 0.0625, 'PRONOUN': 0.125, 'MONEY': 0.0, 'FOCUSPRESENT': 0.09375, 'INGEST': 0.0, 'AFFILIATION': 0.0, 'SWEAR': 0.0, 'HEALTH': 0.0, 'SAD': 0.0, 'TIME': 0.0, 'REWARD': 0.0, 'ANX': 0.0, 'PREP': 0.09375, 'CERTAIN': 0.0625, 'EMP_RES': 0.0122074674375, 'UNCIVIL_ABUSE': -0.01558313765625, 'CONSTRUCTIVENESS': -0.0003740553750000002, 'JUSTIFICATION': 0.07425433800000002, 'RECIPROCITY': -0.0034171239374999997, 'JUST_EXT': -0.06224656025, 'RELEVANCE': 0.0851157803125, 'JUST_INT': 0.0170321819375, 'UNCIV': -0.015583148124999998, 'OFFEN': 0.39124752187500006}\n"
          ]
        },
        {
          "output_type": "stream",
          "name": "stderr",
          "text": [
            "<ipython-input-8-3e7099eac5d5>:33: FutureWarning: The frame.append method is deprecated and will be removed from pandas in a future version. Use pandas.concat instead.\n",
            "  df = df.append(lexicon)\n",
            "<ipython-input-8-3e7099eac5d5>:47: FutureWarning: The frame.append method is deprecated and will be removed from pandas in a future version. Use pandas.concat instead.\n",
            "  df = df.append(lexicon)\n",
            "<ipython-input-8-3e7099eac5d5>:64: FutureWarning: The frame.append method is deprecated and will be removed from pandas in a future version. Use pandas.concat instead.\n",
            "  df = df.append(lexicon)\n",
            "<ipython-input-8-3e7099eac5d5>:77: FutureWarning: The frame.append method is deprecated and will be removed from pandas in a future version. Use pandas.concat instead.\n",
            "  df = df.append(lexicon)\n"
          ]
        },
        {
          "output_type": "stream",
          "name": "stdout",
          "text": [
            "{'text': 'having a gun does not lead to violence and gang, having a mentality that seeks to force your will on another does lead to gang and crime.', 'anger': 0.13793103448275862, 'anticipation': 0.034482758620689655, 'disgust': 0.0, 'fear': 0.10344827586206896, 'joy': 0.0, 'negative': 0.13793103448275862, 'positive': 0.06896551724137931, 'sadness': 0.0, 'surprise': 0.0, 'trust': 0.0, 'PPRON': 0.034482758620689655, 'BODY': 0.0, 'WE': 0.0, 'DEATH': 0.0, 'FOCUSFUTURE': 0.034482758620689655, 'FEEL': 0.0, 'INTERROG': 0.0, 'NUMBER': 0.0, 'POSEMO': 0.0, 'NEGATE': 0.034482758620689655, 'QUANT': 0.0, 'THEY': 0.0, 'AFFECT': 0.0, 'RELATIV': 0.10344827586206896, 'HOME': 0.0, 'CONJ': 0.06896551724137931, 'COGPROC': 0.10344827586206896, 'SEXUAL': 0.0, 'AUXVERB': 0.10344827586206896, 'SHEHE': 0.0, 'BIO': 0.0, 'DIFFER': 0.034482758620689655, 'POWER': 0.06896551724137931, 'NETSPEAK': 0.0, 'INFORMAL': 0.0, 'CAUSE': 0.06896551724137931, 'FILLER': 0.0, 'INSIGHT': 0.0, 'LEISURE': 0.0, 'NEGEMO': 0.0, 'MOTION': 0.06896551724137931, 'SEE': 0.0, 'FOCUSPAST': 0.0, 'ANGER': 0.0, 'ARTICLE': 0.06896551724137931, 'NONFLU': 0.0, 'MALE': 0.0, 'WORK': 0.06896551724137931, 'FRIEND': 0.06896551724137931, 'FUNCTION': 0.4827586206896552, 'RISK': 0.0, 'FAMILY': 0.0, 'SPACE': 0.034482758620689655, 'I': 0.0, 'IPRON': 0.034482758620689655, 'SOCIAL': 0.10344827586206896, 'ASSENT': 0.0, 'DRIVES': 0.13793103448275862, 'PERCEPT': 0.0, 'VERB': 0.10344827586206896, 'HEAR': 0.0, 'FEMALE': 0.0, 'DISCREP': 0.0, 'YOU': 0.034482758620689655, 'ADJ': 0.034482758620689655, 'ACHIEVE': 0.06896551724137931, 'RELIG': 0.0, 'TENTAT': 0.0, 'COMPARE': 0.0, 'ADVERB': 0.0, 'PRONOUN': 0.06896551724137931, 'MONEY': 0.0, 'FOCUSPRESENT': 0.06896551724137931, 'INGEST': 0.0, 'AFFILIATION': 0.06896551724137931, 'SWEAR': 0.0, 'HEALTH': 0.0, 'SAD': 0.0, 'TIME': 0.0, 'REWARD': 0.0, 'ANX': 0.0, 'PREP': 0.13793103448275862, 'CERTAIN': 0.0, 'EMP_RES': 0.0008449340344827583, 'UNCIVIL_ABUSE': -0.038885578172413796, 'CONSTRUCTIVENESS': -0.007931458586206896, 'JUSTIFICATION': 0.0721013519310345, 'RECIPROCITY': -0.006372791999999999, 'JUST_EXT': -0.06463348506896552, 'RELEVANCE': 0.08957390827586206, 'JUST_INT': 0.006570181896551724, 'UNCIV': -0.03888555, 'OFFEN': 0.28372159655172413}\n"
          ]
        },
        {
          "output_type": "stream",
          "name": "stderr",
          "text": [
            "<ipython-input-8-3e7099eac5d5>:33: FutureWarning: The frame.append method is deprecated and will be removed from pandas in a future version. Use pandas.concat instead.\n",
            "  df = df.append(lexicon)\n",
            "<ipython-input-8-3e7099eac5d5>:47: FutureWarning: The frame.append method is deprecated and will be removed from pandas in a future version. Use pandas.concat instead.\n",
            "  df = df.append(lexicon)\n",
            "<ipython-input-8-3e7099eac5d5>:64: FutureWarning: The frame.append method is deprecated and will be removed from pandas in a future version. Use pandas.concat instead.\n",
            "  df = df.append(lexicon)\n",
            "<ipython-input-8-3e7099eac5d5>:77: FutureWarning: The frame.append method is deprecated and will be removed from pandas in a future version. Use pandas.concat instead.\n",
            "  df = df.append(lexicon)\n"
          ]
        },
        {
          "output_type": "stream",
          "name": "stdout",
          "text": [
            "{'text': 'all of these dangerous cases exist, only because guns exist in the first place. remove them all and violence will drop dramatically.', 'anger': 0.04, 'anticipation': 0.0, 'disgust': 0.0, 'fear': 0.12, 'joy': 0.0, 'negative': 0.12, 'positive': 0.0, 'sadness': 0.08, 'surprise': 0.0, 'trust': 0.0, 'PPRON': 0.04, 'BODY': 0.0, 'WE': 0.0, 'DEATH': 0.0, 'FOCUSFUTURE': 0.04, 'FEEL': 0.0, 'INTERROG': 0.0, 'NUMBER': 0.04, 'POSEMO': 0.0, 'NEGATE': 0.0, 'QUANT': 0.08, 'THEY': 0.04, 'AFFECT': 0.04, 'RELATIV': 0.16, 'HOME': 0.0, 'CONJ': 0.04, 'COGPROC': 0.08, 'SEXUAL': 0.0, 'AUXVERB': 0.04, 'SHEHE': 0.0, 'BIO': 0.0, 'DIFFER': 0.0, 'POWER': 0.0, 'NETSPEAK': 0.0, 'INFORMAL': 0.0, 'CAUSE': 0.0, 'FILLER': 0.0, 'INSIGHT': 0.0, 'LEISURE': 0.0, 'NEGEMO': 0.04, 'MOTION': 0.04, 'SEE': 0.0, 'FOCUSPAST': 0.0, 'ANGER': 0.0, 'ARTICLE': 0.04, 'NONFLU': 0.0, 'MALE': 0.0, 'WORK': 0.0, 'FRIEND': 0.0, 'FUNCTION': 0.28, 'RISK': 0.04, 'FAMILY': 0.0, 'SPACE': 0.08, 'I': 0.0, 'IPRON': 0.04, 'SOCIAL': 0.04, 'ASSENT': 0.0, 'DRIVES': 0.08, 'PERCEPT': 0.0, 'VERB': 0.04, 'HEAR': 0.0, 'FEMALE': 0.0, 'DISCREP': 0.0, 'YOU': 0.0, 'ADJ': 0.0, 'ACHIEVE': 0.04, 'RELIG': 0.0, 'TENTAT': 0.0, 'COMPARE': 0.0, 'ADVERB': 0.0, 'PRONOUN': 0.08, 'MONEY': 0.0, 'FOCUSPRESENT': 0.0, 'INGEST': 0.0, 'AFFILIATION': 0.0, 'SWEAR': 0.0, 'HEALTH': 0.0, 'SAD': 0.0, 'TIME': 0.04, 'REWARD': 0.0, 'ANX': 0.0, 'PREP': 0.08, 'CERTAIN': 0.08, 'EMP_RES': 0.007086110080000003, 'UNCIVIL_ABUSE': -0.013419108599999998, 'CONSTRUCTIVENESS': 0.015117927440000001, 'JUSTIFICATION': 0.07087805812, 'RECIPROCITY': -0.007252662359999999, 'JUST_EXT': -0.058473363880000004, 'RELEVANCE': 0.094849448, 'JUST_INT': 0.0030724797200000005, 'UNCIV': -0.013419107599999997, 'OFFEN': 0.24705399919999999}\n",
            "Writing emolized messages to csv...\n"
          ]
        },
        {
          "output_type": "stream",
          "name": "stderr",
          "text": [
            "/usr/local/lib/python3.10/dist-packages/sklearn/feature_extraction/text.py:528: UserWarning: The parameter 'token_pattern' will not be used since 'tokenizer' is not None'\n",
            "  warnings.warn(\n",
            "/usr/local/lib/python3.10/dist-packages/sklearn/feature_extraction/text.py:409: UserWarning: Your stop_words may be inconsistent with your preprocessing. Tokenizing the stop words generated tokens ['ca', 'nt'] not in stop_words.\n",
            "  warnings.warn(\n"
          ]
        },
        {
          "output_type": "stream",
          "name": "stdout",
          "text": [
            "came here\n",
            "came here\n"
          ]
        }
      ],
      "source": [
        "filename = \"/content/drive/MyDrive/Colab_Notebooks/deliberative-politics-main/data/sample.csv\"\n",
        "DATA_PATH = \"/content/drive/MyDrive/Colab_Notebooks/deliberative-politics-main/data/sample.csv\"\n",
        "OUTPUT_DIR = '/content/drive/MyDrive/Colab_Notebooks/deliberative-politics-main/data'     # You'll get 2 directories here, one will have t\n",
        "X_col = 'text'  # Name of X column (string)\n",
        "y_col = 'label'        # Name of y column (0/1)\n",
        "MODIFIED_DATA = os.path.join(OUTPUT_DIR, '/content/drive/MyDrive/Colab_Notebooks/deliberative-politics-main/modified_data')\n",
        "os.makedirs(MODIFIED_DATA, exist_ok=True)\n",
        "os.makedirs(OUTPUT_DIR, exist_ok=True)\n",
        "extract_feats(filename,\"text\")\n",
        "##        \"C:/Users/User/Dropbox/data/msgs_jun23.csv\" --predict 1 0"
      ]
    },
    {
      "cell_type": "code",
      "execution_count": null,
      "metadata": {
        "id": "7satUd4VdAWQ"
      },
      "outputs": [],
      "source": []
    },
    {
      "cell_type": "code",
      "execution_count": null,
      "metadata": {
        "id": "7XUnkCEwdAWR"
      },
      "outputs": [],
      "source": []
    }
  ],
  "metadata": {
    "kernelspec": {
      "display_name": "Python 3 (ipykernel)",
      "language": "python",
      "name": "python3"
    },
    "language_info": {
      "codemirror_mode": {
        "name": "ipython",
        "version": 3
      },
      "file_extension": ".py",
      "mimetype": "text/x-python",
      "name": "python",
      "nbconvert_exporter": "python",
      "pygments_lexer": "ipython3",
      "version": "3.8.12"
    },
    "colab": {
      "provenance": [],
      "include_colab_link": true
    }
  },
  "nbformat": 4,
  "nbformat_minor": 0
}